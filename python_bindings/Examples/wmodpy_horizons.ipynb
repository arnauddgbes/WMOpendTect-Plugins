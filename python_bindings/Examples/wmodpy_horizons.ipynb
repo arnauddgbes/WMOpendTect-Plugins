{
 "cells": [
  {
   "cell_type": "markdown",
   "metadata": {},
   "source": [
    "# OpendTect Python Bindings - Horizons"
   ]
  },
  {
   "cell_type": "code",
   "execution_count": 1,
   "metadata": {
    "jupyter": {
     "outputs_hidden": true,
     "source_hidden": false
    },
    "nteract": {
     "transient": {
      "deleting": false
     }
    }
   },
   "outputs": [],
   "source": [
    "import sys\n",
    "import platform\n",
    "data_root = None\n",
    "alt_root = None\n",
    "if platform.system() == 'Linux':\n",
    "    sys.path.insert(0, \"/opt/seismic/OpendTect_6/6.6.0/bin/lux64/Release\")\n",
    "#    sys.path.insert(0,'/home/wayne/Work/WMSeismicSolutions/dGB/Development/Build/bin/od6.6/bin/lux64/Debug')\n",
    "    data_root = '/mnt/Data/seismic/ODData'\n",
    "    alt_root = '/mnt/Data/seismic/CooperBasin/ODData'\n",
    "elif platform.system() == 'Windows':\n",
    "    sys.path.insert(0, \"C:/Program Files/OpendTect/6.6.0/bin/win64/Release\")\n",
    "    data_root = 'Y:/seismic/ODData'\n",
    "    alt_root = 'Y:/seismic/CooperBasin/ODData'\n",
    "\n",
    "import wmodpy"
   ]
  },
  {
   "cell_type": "markdown",
   "metadata": {},
   "source": [
    "## Horizons3D Class\n",
    "This class provides access to 3D Horizon data in  an OpendTect project/survey. Creating a Horizons3D object requires a Survey object for context. Methods are provided to:\n",
    "-  List the names of all horizons\n",
    "-  Get the 3D horizon Z values as a Numpy array"
   ]
  },
  {
   "cell_type": "code",
   "execution_count": 2,
   "metadata": {},
   "outputs": [
    {
     "data": {
      "text/plain": [
       "['Demo 0 --> FS4',\n",
       " 'Demo 1 --> MFS4',\n",
       " 'Demo 2 --> FS6',\n",
       " 'Demo 3  --> Top Foresets',\n",
       " 'Demo 4 --> Truncation',\n",
       " 'Demo 5 --> FS7',\n",
       " 'Demo 6 --> FS8',\n",
       " 'Demo 7 --> shallow',\n",
       " 'test',\n",
       " 'Trim_D0 --> FS4',\n",
       " 'Trim_D4 --> Truncation',\n",
       " 'Trim_D5 --> FS7',\n",
       " 'Trim_D6 --> FS8']"
      ]
     },
     "execution_count": 2,
     "metadata": {},
     "output_type": "execute_result"
    }
   ],
   "source": [
    "f3demo = wmodpy.Survey(data_root, 'F3_Demo_2020')\n",
    "f3demo_3d_horizons = wmodpy.Horizons3D(f3demo)\n",
    "f3demo_3d_horizons.names()"
   ]
  },
  {
   "cell_type": "code",
   "execution_count": 3,
   "metadata": {},
   "outputs": [
    {
     "ename": "ModuleNotFoundError",
     "evalue": "No module named 'rasterio'",
     "output_type": "error",
     "traceback": [
      "\u001b[0;31m---------------------------------------------------------------------------\u001b[0m",
      "\u001b[0;31mModuleNotFoundError\u001b[0m                       Traceback (most recent call last)",
      "\u001b[0;32m<ipython-input-3-3cd9f146af64>\u001b[0m in \u001b[0;36m<module>\u001b[0;34m\u001b[0m\n\u001b[1;32m      1\u001b[0m \u001b[0marr\u001b[0m\u001b[0;34m,\u001b[0m \u001b[0minfo\u001b[0m \u001b[0;34m=\u001b[0m \u001b[0mf3demo_3d_horizons\u001b[0m\u001b[0;34m.\u001b[0m\u001b[0mget_z\u001b[0m\u001b[0;34m(\u001b[0m\u001b[0;34m'Demo 0 --> FS4'\u001b[0m\u001b[0;34m)\u001b[0m\u001b[0;34m\u001b[0m\u001b[0;34m\u001b[0m\u001b[0m\n\u001b[0;32m----> 2\u001b[0;31m \u001b[0;32mimport\u001b[0m \u001b[0mrasterio\u001b[0m \u001b[0;32mas\u001b[0m \u001b[0mrst\u001b[0m\u001b[0;34m\u001b[0m\u001b[0;34m\u001b[0m\u001b[0m\n\u001b[0m\u001b[1;32m      3\u001b[0m \u001b[0;32mimport\u001b[0m \u001b[0mrasterio\u001b[0m\u001b[0;34m.\u001b[0m\u001b[0mplot\u001b[0m \u001b[0;32mas\u001b[0m \u001b[0mrp\u001b[0m\u001b[0;34m\u001b[0m\u001b[0;34m\u001b[0m\u001b[0m\n\u001b[1;32m      4\u001b[0m \u001b[0;32mimport\u001b[0m \u001b[0mrasterio\u001b[0m\u001b[0;34m.\u001b[0m\u001b[0mtransform\u001b[0m \u001b[0;32mas\u001b[0m \u001b[0mrt\u001b[0m\u001b[0;34m\u001b[0m\u001b[0;34m\u001b[0m\u001b[0m\n\u001b[1;32m      5\u001b[0m \u001b[0;31m#import rasterio.transform as rt\u001b[0m\u001b[0;34m\u001b[0m\u001b[0;34m\u001b[0m\u001b[0;34m\u001b[0m\u001b[0m\n",
      "\u001b[0;31mModuleNotFoundError\u001b[0m: No module named 'rasterio'"
     ]
    }
   ],
   "source": [
    "arr, info = f3demo_3d_horizons.get_z('Demo 0 --> FS4')\n",
    "import rasterio as rst\n",
    "import rasterio.plot as rp\n",
    "import rasterio.transform as rt\n",
    "#import rasterio.transform as rt\n",
    "trans = rt.Affine(*info['transform'])\n",
    "rp.show(arr,transform=trans,cmap='inferno')\n",
    "trans"
   ]
  },
  {
   "cell_type": "code",
   "execution_count": 4,
   "metadata": {},
   "outputs": [
    {
     "data": {
      "image/png": "[encoded data removed]",
      "text/plain": [
       "<Figure size 432x288 with 1 Axes>"
      ]
     },
     "metadata": {
      "needs_background": "light"
     },
     "output_type": "display_data"
    },
    {
     "data": {
      "text/plain": [
       "Affine(17.677668160002213, 17.677670089993626, 367101.506671275,\n",
       "       17.677670519798994, -17.67767009139061, 8492755.364229945)"
      ]
     },
     "execution_count": 4,
     "metadata": {},
     "output_type": "execute_result"
    }
   ],
   "source": [
    "floyd = wmodpy.Survey('/mnt/Data/seismic/ODData', 'Floyd')\n",
    "floyd_hor = wmodpy.Horizons3D(floyd)\n",
    "arr, info = floyd_hor.get_z('fossil_head')\n",
    "trans = rt.Affine(*info['transform'])\n",
    "arr_masked = np.ma.masked_array(arr, mask=(arr == info['nodata']))\n",
    "rp.show(arr_masked,transform=trans,cmap='inferno')\n",
    "trans"
   ]
  },
  {
   "cell_type": "markdown",
   "metadata": {},
   "source": [
    "## Horizons2D Class\n",
    "This class provides access to 2D Horizon data in an OpendTect project/survey. Creating a Horizons2D object requires a Survey object for context. Methods are provided to:\n",
    "\n",
    "-  List the names of all horizons\n"
   ]
  },
  {
   "cell_type": "code",
   "execution_count": 4,
   "metadata": {},
   "outputs": [
    {
     "data": {
      "text/plain": [
       "['2D Demo0 - FS4',\n",
       " '2D Demo1 - MFS4',\n",
       " '2D Demo4 - Truncation',\n",
       " '2D Demo6 - FS8',\n",
       " '2D Demo7 - FS11',\n",
       " 'SSIS-Grid-Base',\n",
       " 'SSIS-Grid-Top',\n",
       " 'SSIS-Grid1-MFS1',\n",
       " 'SSIS-Grid2-TopHST1',\n",
       " 'SSIS-Grid3-SB1',\n",
       " 'SSIS-Grid4-MRS1',\n",
       " 'SSIS-Grid5-TopHST2',\n",
       " 'SSIS-Grid6-SB2',\n",
       " 'SSIS-Grid7-MRS2']"
      ]
     },
     "execution_count": 4,
     "metadata": {},
     "output_type": "execute_result"
    }
   ],
   "source": [
    "f3demo_2d_horizons = wmodpy.Horizons2D(f3demo)\n",
    "f3demo_2d_horizons.names()"
   ]
  },
  {
   "cell_type": "code",
   "execution_count": null,
   "metadata": {},
   "outputs": [],
   "source": []
  }
 ],
 "metadata": {
  "interpreter": {
   "hash": "4896424e00dd6826f6ad01c1c9aba715374fe393b4ced6edf90973db59a59a2b"
  },
  "kernelspec": {
   "display_name": "Python 3.7.10 64-bit ('pylops37': conda)",
   "name": "python3"
  },
  "language_info": {
   "codemirror_mode": {
    "name": "ipython",
    "version": 3
   },
   "file_extension": ".py",
   "mimetype": "text/x-python",
   "name": "python",
   "nbconvert_exporter": "python",
   "pygments_lexer": "ipython3",
   "version": "3.7.10"
  },
  "nteract": {
   "version": "0.28.0"
  }
 },
 "nbformat": 4,
 "nbformat_minor": 4
}