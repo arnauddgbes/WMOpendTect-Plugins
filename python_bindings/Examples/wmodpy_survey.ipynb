{
 "cells": [
  {
   "cell_type": "markdown",
   "metadata": {},
   "source": [
    "# OpendTect Python Bindings - Survey"
   ]
  },
  {
   "cell_type": "code",
   "execution_count": 2,
   "metadata": {
    "jupyter": {
     "outputs_hidden": true,
     "source_hidden": false
    },
    "nteract": {
     "transient": {
      "deleting": false
     }
    }
   },
   "outputs": [],
   "source": [
    "import sys\n",
    "import platform\n",
    "data_root = None\n",
    "alt_root = None\n",
    "if platform.system() == 'Linux':\n",
    "    sys.path.insert(0, \"/opt/seismic/OpendTect_6/6.6.0/bin/lux64/Release\")\n",
    "#    sys.path.insert(0,'/home/wayne/Work/WMSeismicSolutions/dGB/Development/Build/bin/od6.6/bin/lux64/Debug')\n",
    "    data_root = '/mnt/Data/seismic/ODData'\n",
    "    alt_root = '/mnt/Data/seismic/CooperBasin/ODData'\n",
    "elif platform.system() == 'Windows':\n",
    "    sys.path.insert(0, \"C:/Program Files/OpendTect/6.6.0/bin/win64/Release\")\n",
    "    data_root = 'Y:/seismic/ODData'\n",
    "    alt_root = 'Y:/seismic/CooperBasin/ODData'\n",
    "\n",
    "import wmodpy"
   ]
  },
  {
   "cell_type": "markdown",
   "metadata": {},
   "source": [
    "## wmodpy.get_surveys Function\n",
    "This function (get_surveys) gives back a python list of the OpendTect surveys in a user supplied base data folder"
   ]
  },
  {
   "cell_type": "code",
   "execution_count": 3,
   "metadata": {},
   "outputs": [
    {
     "data": {
      "text/plain": [
       "['13CP06_Dundinna', 'Cooper2D']"
      ]
     },
     "execution_count": 3,
     "metadata": {},
     "output_type": "execute_result"
    }
   ],
   "source": [
    "wmodpy.get_surveys(alt_root)"
   ]
  },
  {
   "cell_type": "code",
   "execution_count": 6,
   "metadata": {},
   "outputs": [
    {
     "data": {
      "text/html": [
       "<div>\n",
       "<style scoped>\n",
       "    .dataframe tbody tr th:only-of-type {\n",
       "        vertical-align: middle;\n",
       "    }\n",
       "\n",
       "    .dataframe tbody tr th {\n",
       "        vertical-align: top;\n",
       "    }\n",
       "\n",
       "    .dataframe thead th {\n",
       "        text-align: right;\n",
       "    }\n",
       "</style>\n",
       "<table border=\"1\" class=\"dataframe\">\n",
       "  <thead>\n",
       "    <tr style=\"text-align: right;\">\n",
       "      <th></th>\n",
       "      <th>Name</th>\n",
       "      <th>Type</th>\n",
       "      <th>crs</th>\n",
       "    </tr>\n",
       "  </thead>\n",
       "  <tbody>\n",
       "    <tr>\n",
       "      <th>0</th>\n",
       "      <td>Blake_Ridge_Hydrates_3D</td>\n",
       "      <td>3D</td>\n",
       "      <td>EPSG:32618</td>\n",
       "    </tr>\n",
       "    <tr>\n",
       "      <th>1</th>\n",
       "      <td>Demo_OpendTect</td>\n",
       "      <td>3D</td>\n",
       "      <td></td>\n",
       "    </tr>\n",
       "    <tr>\n",
       "      <th>2</th>\n",
       "      <td>Dip_Testing</td>\n",
       "      <td>3D</td>\n",
       "      <td></td>\n",
       "    </tr>\n",
       "    <tr>\n",
       "      <th>3</th>\n",
       "      <td>F3 Demo 2020</td>\n",
       "      <td>2D3D</td>\n",
       "      <td>EPSG:23031</td>\n",
       "    </tr>\n",
       "    <tr>\n",
       "      <th>4</th>\n",
       "      <td>FaultSeg3D</td>\n",
       "      <td>3D</td>\n",
       "      <td></td>\n",
       "    </tr>\n",
       "    <tr>\n",
       "      <th>5</th>\n",
       "      <td>Floyd</td>\n",
       "      <td>3D</td>\n",
       "      <td>EPSG:28352</td>\n",
       "    </tr>\n",
       "    <tr>\n",
       "      <th>6</th>\n",
       "      <td>Floyd_HiRes</td>\n",
       "      <td>3D</td>\n",
       "      <td></td>\n",
       "    </tr>\n",
       "    <tr>\n",
       "      <th>7</th>\n",
       "      <td>Floyd_PSDM</td>\n",
       "      <td>3D</td>\n",
       "      <td></td>\n",
       "    </tr>\n",
       "    <tr>\n",
       "      <th>8</th>\n",
       "      <td>Floyd_Time_Demo</td>\n",
       "      <td>2D3D</td>\n",
       "      <td>EPSG:28352</td>\n",
       "    </tr>\n",
       "    <tr>\n",
       "      <th>9</th>\n",
       "      <td>FORCE ML Competition 2020 Synthetic Models and...</td>\n",
       "      <td>3D</td>\n",
       "      <td>EPSG:32751</td>\n",
       "    </tr>\n",
       "    <tr>\n",
       "      <th>10</th>\n",
       "      <td>GKProcessing</td>\n",
       "      <td>3D</td>\n",
       "      <td></td>\n",
       "    </tr>\n",
       "    <tr>\n",
       "      <th>11</th>\n",
       "      <td>Hyland_2D</td>\n",
       "      <td>2D3D</td>\n",
       "      <td>EPSG:28352</td>\n",
       "    </tr>\n",
       "    <tr>\n",
       "      <th>12</th>\n",
       "      <td>Liberator_Tomo</td>\n",
       "      <td>3D</td>\n",
       "      <td>EPSG:28354</td>\n",
       "    </tr>\n",
       "    <tr>\n",
       "      <th>13</th>\n",
       "      <td>Maui-NZ_SEG2017</td>\n",
       "      <td>3D</td>\n",
       "      <td></td>\n",
       "    </tr>\n",
       "    <tr>\n",
       "      <th>14</th>\n",
       "      <td>Mumbai2019</td>\n",
       "      <td>2D3D</td>\n",
       "      <td>EPSG:28352</td>\n",
       "    </tr>\n",
       "    <tr>\n",
       "      <th>15</th>\n",
       "      <td>Penobscot</td>\n",
       "      <td>2D3D</td>\n",
       "      <td>EPSG:2294</td>\n",
       "    </tr>\n",
       "    <tr>\n",
       "      <th>16</th>\n",
       "      <td>Petrel_SubBasin</td>\n",
       "      <td>2D</td>\n",
       "      <td>EPSG:28352</td>\n",
       "    </tr>\n",
       "    <tr>\n",
       "      <th>17</th>\n",
       "      <td>Senex_Liberator</td>\n",
       "      <td>2D3D</td>\n",
       "      <td>EPSG:28354</td>\n",
       "    </tr>\n",
       "    <tr>\n",
       "      <th>18</th>\n",
       "      <td>Senex_Westeros</td>\n",
       "      <td>3D</td>\n",
       "      <td>EPSG:28354</td>\n",
       "    </tr>\n",
       "    <tr>\n",
       "      <th>19</th>\n",
       "      <td>test</td>\n",
       "      <td>3D</td>\n",
       "      <td></td>\n",
       "    </tr>\n",
       "    <tr>\n",
       "      <th>20</th>\n",
       "      <td>TNW-Depth-DGb</td>\n",
       "      <td>2D3D</td>\n",
       "      <td>EPSG:3043</td>\n",
       "    </tr>\n",
       "    <tr>\n",
       "      <th>21</th>\n",
       "      <td>USGS Central Alaska</td>\n",
       "      <td>2D</td>\n",
       "      <td></td>\n",
       "    </tr>\n",
       "    <tr>\n",
       "      <th>22</th>\n",
       "      <td>v07_200018_MJOSA_2_DEPTH</td>\n",
       "      <td>2D3D</td>\n",
       "      <td>EPSG:5110</td>\n",
       "    </tr>\n",
       "    <tr>\n",
       "      <th>23</th>\n",
       "      <td>Waka_Depth</td>\n",
       "      <td>2D3D</td>\n",
       "      <td></td>\n",
       "    </tr>\n",
       "    <tr>\n",
       "      <th>24</th>\n",
       "      <td>Waka_Time</td>\n",
       "      <td>2D3D</td>\n",
       "      <td>EPSG:27200</td>\n",
       "    </tr>\n",
       "    <tr>\n",
       "      <th>25</th>\n",
       "      <td>ZVSP-test</td>\n",
       "      <td>2D3D</td>\n",
       "      <td></td>\n",
       "    </tr>\n",
       "  </tbody>\n",
       "</table>\n",
       "</div>"
      ],
      "text/plain": [
       "                                                 Name  Type         crs\n",
       "0                             Blake_Ridge_Hydrates_3D    3D  EPSG:32618\n",
       "1                                      Demo_OpendTect    3D            \n",
       "2                                         Dip_Testing    3D            \n",
       "3                                        F3 Demo 2020  2D3D  EPSG:23031\n",
       "4                                          FaultSeg3D    3D            \n",
       "5                                               Floyd    3D  EPSG:28352\n",
       "6                                         Floyd_HiRes    3D            \n",
       "7                                          Floyd_PSDM    3D            \n",
       "8                                     Floyd_Time_Demo  2D3D  EPSG:28352\n",
       "9   FORCE ML Competition 2020 Synthetic Models and...    3D  EPSG:32751\n",
       "10                                       GKProcessing    3D            \n",
       "11                                          Hyland_2D  2D3D  EPSG:28352\n",
       "12                                     Liberator_Tomo    3D  EPSG:28354\n",
       "13                                    Maui-NZ_SEG2017    3D            \n",
       "14                                         Mumbai2019  2D3D  EPSG:28352\n",
       "15                                          Penobscot  2D3D   EPSG:2294\n",
       "16                                    Petrel_SubBasin    2D  EPSG:28352\n",
       "17                                    Senex_Liberator  2D3D  EPSG:28354\n",
       "18                                     Senex_Westeros    3D  EPSG:28354\n",
       "19                                               test    3D            \n",
       "20                                      TNW-Depth-DGb  2D3D   EPSG:3043\n",
       "21                                USGS Central Alaska    2D            \n",
       "22                           v07_200018_MJOSA_2_DEPTH  2D3D   EPSG:5110\n",
       "23                                         Waka_Depth  2D3D            \n",
       "24                                          Waka_Time  2D3D  EPSG:27200\n",
       "25                                          ZVSP-test  2D3D            "
      ]
     },
     "execution_count": 6,
     "metadata": {},
     "output_type": "execute_result"
    }
   ],
   "source": [
    "wmodpy.get_survey_info_df(data_root)"
   ]
  },
  {
   "cell_type": "code",
   "execution_count": 8,
   "metadata": {},
   "outputs": [
    {
     "data": {
      "text/plain": [
       "'{\"type\": \"FeatureCollection\", \"features\": [{\"type\": \"Feature\", \"properties\": {\"Name\": \"Penobscot\", \"Type\": \"2D3D\", \"crs\": \"EPSG:2294\"}, \"geometry\": {\"type\": \"Polygon\", \"coordinates\": [[[-102.25210144910159, 36.23070969902782], [-102.19088144518389, 36.30491285507581], [-102.24349592984031, 36.33887847583746], [-102.30455084695782, 36.264652363907196], [-102.25210144910159, 36.23070969902782]]]}}]}'"
      ]
     },
     "execution_count": 8,
     "metadata": {},
     "output_type": "execute_result"
    }
   ],
   "source": [
    "wmodpy.get_survey_features(data_root,[\"Penobscot\"])"
   ]
  },
  {
   "cell_type": "code",
   "execution_count": 9,
   "metadata": {},
   "outputs": [
    {
     "data": {
      "text/html": [
       "<div style=\"width:100%;\"><div style=\"position:relative;width:100%;height:0;padding-bottom:60%;\"><span style=\"color:#565656\">Make this Notebook Trusted to load map: File -> Trust Notebook</span><iframe src=\"about:blank\" style=\"position:absolute;width:100%;height:100%;left:0;top:0;border:none !important;\" data-html=%3C%21DOCTYPE%20html%3E%0A%3Chead%3E%20%20%20%20%0A%20%20%20%20%3Cmeta%20http-equiv%3D%22content-type%22%20content%3D%22text/html%3B%20charset%3DUTF-8%22%20/%3E%0A%20%20%20%20%0A%20%20%20%20%20%20%20%20%3Cscript%3E%0A%20%20%20%20%20%20%20%20%20%20%20%20L_NO_TOUCH%20%3D%20false%3B%0A%20%20%20%20%20%20%20%20%20%20%20%20L_DISABLE_3D%20%3D%20false%3B%0A%20%20%20%20%20%20%20%20%3C/script%3E%0A%20%20%20%20%0A%20%20%20%20%3Cstyle%3Ehtml%2C%20body%20%7Bwidth%3A%20100%25%3Bheight%3A%20100%25%3Bmargin%3A%200%3Bpadding%3A%200%3B%7D%3C/style%3E%0A%20%20%20%20%3Cstyle%3E%23map%20%7Bposition%3Aabsolute%3Btop%3A0%3Bbottom%3A0%3Bright%3A0%3Bleft%3A0%3B%7D%3C/style%3E%0A%20%20%20%20%3Cscript%20src%3D%22https%3A//cdn.jsdelivr.net/npm/leaflet%401.6.0/dist/leaflet.js%22%3E%3C/script%3E%0A%20%20%20%20%3Cscript%20src%3D%22https%3A//code.jquery.com/jquery-1.12.4.min.js%22%3E%3C/script%3E%0A%20%20%20%20%3Cscript%20src%3D%22https%3A//maxcdn.bootstrapcdn.com/bootstrap/3.2.0/js/bootstrap.min.js%22%3E%3C/script%3E%0A%20%20%20%20%3Cscript%20src%3D%22https%3A//cdnjs.cloudflare.com/ajax/libs/Leaflet.awesome-markers/2.0.2/leaflet.awesome-markers.js%22%3E%3C/script%3E%0A%20%20%20%20%3Clink%20rel%3D%22stylesheet%22%20href%3D%22https%3A//cdn.jsdelivr.net/npm/leaflet%401.6.0/dist/leaflet.css%22/%3E%0A%20%20%20%20%3Clink%20rel%3D%22stylesheet%22%20href%3D%22https%3A//maxcdn.bootstrapcdn.com/bootstrap/3.2.0/css/bootstrap.min.css%22/%3E%0A%20%20%20%20%3Clink%20rel%3D%22stylesheet%22%20href%3D%22https%3A//maxcdn.bootstrapcdn.com/bootstrap/3.2.0/css/bootstrap-theme.min.css%22/%3E%0A%20%20%20%20%3Clink%20rel%3D%22stylesheet%22%20href%3D%22https%3A//maxcdn.bootstrapcdn.com/font-awesome/4.6.3/css/font-awesome.min.css%22/%3E%0A%20%20%20%20%3Clink%20rel%3D%22stylesheet%22%20href%3D%22https%3A//cdnjs.cloudflare.com/ajax/libs/Leaflet.awesome-markers/2.0.2/leaflet.awesome-markers.css%22/%3E%0A%20%20%20%20%3Clink%20rel%3D%22stylesheet%22%20href%3D%22https%3A//cdn.jsdelivr.net/gh/python-visualization/folium/folium/templates/leaflet.awesome.rotate.min.css%22/%3E%0A%20%20%20%20%0A%20%20%20%20%20%20%20%20%20%20%20%20%3Cmeta%20name%3D%22viewport%22%20content%3D%22width%3Ddevice-width%2C%0A%20%20%20%20%20%20%20%20%20%20%20%20%20%20%20%20initial-scale%3D1.0%2C%20maximum-scale%3D1.0%2C%20user-scalable%3Dno%22%20/%3E%0A%20%20%20%20%20%20%20%20%20%20%20%20%3Cstyle%3E%0A%20%20%20%20%20%20%20%20%20%20%20%20%20%20%20%20%23map_0e329cb3f22e45a6a962d90c77207606%20%7B%0A%20%20%20%20%20%20%20%20%20%20%20%20%20%20%20%20%20%20%20%20position%3A%20relative%3B%0A%20%20%20%20%20%20%20%20%20%20%20%20%20%20%20%20%20%20%20%20width%3A%20100.0%25%3B%0A%20%20%20%20%20%20%20%20%20%20%20%20%20%20%20%20%20%20%20%20height%3A%20100.0%25%3B%0A%20%20%20%20%20%20%20%20%20%20%20%20%20%20%20%20%20%20%20%20left%3A%200.0%25%3B%0A%20%20%20%20%20%20%20%20%20%20%20%20%20%20%20%20%20%20%20%20top%3A%200.0%25%3B%0A%20%20%20%20%20%20%20%20%20%20%20%20%20%20%20%20%7D%0A%20%20%20%20%20%20%20%20%20%20%20%20%3C/style%3E%0A%20%20%20%20%20%20%20%20%0A%20%20%20%20%0A%20%20%20%20%20%20%20%20%20%20%20%20%20%20%20%20%20%20%20%20%3Cstyle%3E%0A%20%20%20%20%20%20%20%20%20%20%20%20%20%20%20%20%20%20%20%20%20%20%20%20.foliumpopup%20%7B%0A%20%20%20%20%20%20%20%20%20%20%20%20%20%20%20%20%20%20%20%20%20%20%20%20%20%20%20%20margin%3A%20auto%3B%0A%20%20%20%20%20%20%20%20%20%20%20%20%20%20%20%20%20%20%20%20%20%20%20%20%7D%0A%20%20%20%20%20%20%20%20%20%20%20%20%20%20%20%20%20%20%20%20%20%20%20.foliumpopup%20table%7B%0A%20%20%20%20%20%20%20%20%20%20%20%20%20%20%20%20%20%20%20%20%20%20%20%20%20%20%20%20margin%3A%20auto%3B%0A%20%20%20%20%20%20%20%20%20%20%20%20%20%20%20%20%20%20%20%20%20%20%20%20%7D%0A%20%20%20%20%20%20%20%20%20%20%20%20%20%20%20%20%20%20%20%20%20%20%20%20.foliumpopup%20tr%7B%0A%20%20%20%20%20%20%20%20%20%20%20%20%20%20%20%20%20%20%20%20%20%20%20%20%20%20%20%20text-align%3A%20left%3B%0A%20%20%20%20%20%20%20%20%20%20%20%20%20%20%20%20%20%20%20%20%20%20%20%20%7D%0A%20%20%20%20%20%20%20%20%20%20%20%20%20%20%20%20%20%20%20%20%20%20%20%20.foliumpopup%20th%7B%0A%20%20%20%20%20%20%20%20%20%20%20%20%20%20%20%20%20%20%20%20%20%20%20%20%20%20%20%20padding%3A%202px%3B%20padding-right%3A%208px%3B%0A%20%20%20%20%20%20%20%20%20%20%20%20%20%20%20%20%20%20%20%20%20%20%20%20%7D%0A%20%20%20%20%20%20%20%20%20%20%20%20%20%20%20%20%20%20%20%20%3C/style%3E%0A%20%20%20%20%20%20%20%20%20%20%20%20%0A%3C/head%3E%0A%3Cbody%3E%20%20%20%20%0A%20%20%20%20%0A%20%20%20%20%20%20%20%20%20%20%20%20%3Cdiv%20class%3D%22folium-map%22%20id%3D%22map_0e329cb3f22e45a6a962d90c77207606%22%20%3E%3C/div%3E%0A%20%20%20%20%20%20%20%20%0A%3C/body%3E%0A%3Cscript%3E%20%20%20%20%0A%20%20%20%20%0A%20%20%20%20%20%20%20%20%20%20%20%20var%20map_0e329cb3f22e45a6a962d90c77207606%20%3D%20L.map%28%0A%20%20%20%20%20%20%20%20%20%20%20%20%20%20%20%20%22map_0e329cb3f22e45a6a962d90c77207606%22%2C%0A%20%20%20%20%20%20%20%20%20%20%20%20%20%20%20%20%7B%0A%20%20%20%20%20%20%20%20%20%20%20%20%20%20%20%20%20%20%20%20center%3A%20%5B52.3%2C%208.0%5D%2C%0A%20%20%20%20%20%20%20%20%20%20%20%20%20%20%20%20%20%20%20%20crs%3A%20L.CRS.EPSG3857%2C%0A%20%20%20%20%20%20%20%20%20%20%20%20%20%20%20%20%20%20%20%20maxBounds%3A%20%5B%5B-90%2C%20-180%5D%2C%20%5B90%2C%20180%5D%5D%2C%0A%20%20%20%20%20%20%20%20%20%20%20%20%20%20%20%20%20%20%20%20zoom%3A%206%2C%0A%20%20%20%20%20%20%20%20%20%20%20%20%20%20%20%20%20%20%20%20zoomControl%3A%20true%2C%0A%20%20%20%20%20%20%20%20%20%20%20%20%20%20%20%20%20%20%20%20preferCanvas%3A%20false%2C%0A%20%20%20%20%20%20%20%20%20%20%20%20%20%20%20%20%20%20%20%20maxBoundsViscosity%3A%201%2C%0A%20%20%20%20%20%20%20%20%20%20%20%20%20%20%20%20%7D%0A%20%20%20%20%20%20%20%20%20%20%20%20%29%3B%0A%0A%20%20%20%20%20%20%20%20%20%20%20%20%0A%0A%20%20%20%20%20%20%20%20%0A%20%20%20%20%0A%20%20%20%20%20%20%20%20%20%20%20%20var%20tile_layer_634db31fd6004bfe9fa719e0509d97c8%20%3D%20L.tileLayer%28%0A%20%20%20%20%20%20%20%20%20%20%20%20%20%20%20%20%22https%3A//stamen-tiles-%7Bs%7D.a.ssl.fastly.net/terrain/%7Bz%7D/%7Bx%7D/%7By%7D.jpg%22%2C%0A%20%20%20%20%20%20%20%20%20%20%20%20%20%20%20%20%7B%22attribution%22%3A%20%22Map%20tiles%20by%20%5Cu003ca%20href%3D%5C%22http%3A//stamen.com%5C%22%5Cu003eStamen%20Design%5Cu003c/a%5Cu003e%2C%20under%20%5Cu003ca%20href%3D%5C%22http%3A//creativecommons.org/licenses/by/3.0%5C%22%5Cu003eCC%20BY%203.0%5Cu003c/a%5Cu003e.%20Data%20by%20%5Cu0026copy%3B%20%5Cu003ca%20href%3D%5C%22http%3A//openstreetmap.org%5C%22%5Cu003eOpenStreetMap%5Cu003c/a%5Cu003e%2C%20under%20%5Cu003ca%20href%3D%5C%22http%3A//creativecommons.org/licenses/by-sa/3.0%5C%22%5Cu003eCC%20BY%20SA%5Cu003c/a%5Cu003e.%22%2C%20%22detectRetina%22%3A%20false%2C%20%22maxNativeZoom%22%3A%2018%2C%20%22maxZoom%22%3A%2018%2C%20%22minZoom%22%3A%200%2C%20%22noWrap%22%3A%20false%2C%20%22opacity%22%3A%201%2C%20%22subdomains%22%3A%20%22abc%22%2C%20%22tms%22%3A%20false%7D%0A%20%20%20%20%20%20%20%20%20%20%20%20%29.addTo%28map_0e329cb3f22e45a6a962d90c77207606%29%3B%0A%20%20%20%20%20%20%20%20%0A%20%20%20%20%0A%0A%20%20%20%20%20%20%20%20function%20geo_json_7d51d3bac4684056b31303fc4eac2f61_onEachFeature%28feature%2C%20layer%29%20%7B%0A%20%20%20%20%20%20%20%20%20%20%20%20layer.on%28%7B%0A%20%20%20%20%20%20%20%20%20%20%20%20%7D%29%3B%0A%20%20%20%20%20%20%20%20%7D%3B%0A%20%20%20%20%20%20%20%20var%20geo_json_7d51d3bac4684056b31303fc4eac2f61%20%3D%20L.geoJson%28null%2C%20%7B%0A%20%20%20%20%20%20%20%20%20%20%20%20%20%20%20%20onEachFeature%3A%20geo_json_7d51d3bac4684056b31303fc4eac2f61_onEachFeature%2C%0A%20%20%20%20%20%20%20%20%20%20%20%20%0A%20%20%20%20%20%20%20%20%7D%29%3B%0A%0A%20%20%20%20%20%20%20%20function%20geo_json_7d51d3bac4684056b31303fc4eac2f61_add%20%28data%29%20%7B%0A%20%20%20%20%20%20%20%20%20%20%20%20geo_json_7d51d3bac4684056b31303fc4eac2f61%0A%20%20%20%20%20%20%20%20%20%20%20%20%20%20%20%20.addData%28data%29%0A%20%20%20%20%20%20%20%20%20%20%20%20%20%20%20%20.addTo%28map_0e329cb3f22e45a6a962d90c77207606%29%3B%0A%20%20%20%20%20%20%20%20%7D%0A%20%20%20%20%20%20%20%20%20%20%20%20geo_json_7d51d3bac4684056b31303fc4eac2f61_add%28%7B%22features%22%3A%20%5B%7B%22geometry%22%3A%20%7B%22coordinates%22%3A%20%5B%5B%5B-75.73402577779105%2C%2031.882761649733858%5D%2C%20%5B-75.2318899045147%2C%2031.990270260746%5D%2C%20%5B-75.2138884512822%2C%2031.92854735793031%5D%2C%20%5B-75.71571246918678%2C%2031.82111246600287%5D%2C%20%5B-75.73402577779105%2C%2031.882761649733858%5D%5D%5D%2C%20%22type%22%3A%20%22Polygon%22%7D%2C%20%22properties%22%3A%20%7B%22Name%22%3A%20%22Blake_Ridge_Hydrates_3D%22%2C%20%22Type%22%3A%20%223D%22%2C%20%22crs%22%3A%20%22EPSG%3A32618%22%7D%2C%20%22type%22%3A%20%22Feature%22%7D%2C%20%7B%22geometry%22%3A%20%7B%22coordinates%22%3A%20%5B%5B%5B4.644771779014873%2C%2054.79611472015208%5D%2C%20%5B5.0141138363413145%2C%2054.79650898789612%5D%2C%20%5B5.014324061777345%2C%2054.94250714050207%5D%2C%20%5B4.643644415587539%2C%2054.942121470402164%5D%2C%20%5B4.644771779014873%2C%2054.79611472015208%5D%5D%5D%2C%20%22type%22%3A%20%22Polygon%22%7D%2C%20%22properties%22%3A%20%7B%22Name%22%3A%20%22F3%20Demo%202020%22%2C%20%22Type%22%3A%20%222D3D%22%2C%20%22crs%22%3A%20%22EPSG%3A23031%22%7D%2C%20%22type%22%3A%20%22Feature%22%7D%2C%20%7B%22geometry%22%3A%20%7B%22coordinates%22%3A%20%5B%5B%5B127.76031941796529%2C%20-13.61984063646675%5D%2C%20%5B128.02998454621982%2C%20-13.885867177934337%5D%2C%20%5B128.17428001579904%2C%20-13.745907654492553%5D%2C%20%5B127.90458888749697%2C%20-13.480035094693362%5D%2C%20%5B127.76031941796529%2C%20-13.61984063646675%5D%5D%5D%2C%20%22type%22%3A%20%22Polygon%22%7D%2C%20%22properties%22%3A%20%7B%22Name%22%3A%20%22Floyd%22%2C%20%22Type%22%3A%20%223D%22%2C%20%22crs%22%3A%20%22EPSG%3A28352%22%7D%2C%20%22type%22%3A%20%22Feature%22%7D%2C%20%7B%22geometry%22%3A%20%7B%22coordinates%22%3A%20%5B%5B%5B127.8769314528166%2C%20-13.734984131517505%5D%2C%20%5B128.02998454621982%2C%20-13.885867177934337%5D%2C%20%5B128.14458136247478%2C%20-13.77473543293653%5D%2C%20%5B127.99151703622306%2C%20-13.623922136724605%5D%2C%20%5B127.8769314528166%2C%20-13.734984131517505%5D%5D%5D%2C%20%22type%22%3A%20%22Polygon%22%7D%2C%20%22properties%22%3A%20%7B%22Name%22%3A%20%22Floyd_Time_Demo%22%2C%20%22Type%22%3A%20%222D3D%22%2C%20%22crs%22%3A%20%22EPSG%3A28352%22%7D%2C%20%22type%22%3A%20%22Feature%22%7D%2C%20%7B%22geometry%22%3A%20%7B%22coordinates%22%3A%20%5B%5B%5B122.81818909163805%2C%20-14.236138857036776%5D%2C%20%5B122.81824212091345%2C%20-14.169681631843657%5D%2C%20%5B122.8443047415026%2C%20-14.169699963687659%5D%2C%20%5B122.84425931611837%2C%20-14.236157278357489%5D%2C%20%5B122.81818909163805%2C%20-14.236138857036776%5D%5D%5D%2C%20%22type%22%3A%20%22Polygon%22%7D%2C%20%22properties%22%3A%20%7B%22Name%22%3A%20%22FORCE%20ML%20Competition%202020%20Synthetic%20Models%20and%20Wells%22%2C%20%22Type%22%3A%20%223D%22%2C%20%22crs%22%3A%20%22EPSG%3A32751%22%7D%2C%20%22type%22%3A%20%22Feature%22%7D%2C%20%7B%22geometry%22%3A%20%7B%22coordinates%22%3A%20%5B%5B%5B129.32909063294278%2C%20-14.032026259587896%5D%2C%20%5B129.32861119493134%2C%20-13.691370809934723%5D%2C%20%5B129.75375992844016%2C%20-13.690441449458062%5D%2C%20%5B129.7548595480624%2C%20-14.031072871647766%5D%2C%20%5B129.32909063294278%2C%20-14.032026259587896%5D%5D%5D%2C%20%22type%22%3A%20%22Polygon%22%7D%2C%20%22properties%22%3A%20%7B%22Name%22%3A%20%22Hyland_2D%22%2C%20%22Type%22%3A%20%222D3D%22%2C%20%22crs%22%3A%20%22EPSG%3A28352%22%7D%2C%20%22type%22%3A%20%22Feature%22%7D%2C%20%7B%22geometry%22%3A%20%7B%22coordinates%22%3A%20%5B%5B%5B139.46992212448959%2C%20-27.682253321431627%5D%2C%20%5B139.8085410859674%2C%20-27.685580065790415%5D%2C%20%5B139.8134521893412%2C%20-27.22777858476494%5D%2C%20%5B139.47622781648195%2C%20-27.2245158917091%5D%2C%20%5B139.46992212448959%2C%20-27.682253321431627%5D%5D%5D%2C%20%22type%22%3A%20%22Polygon%22%7D%2C%20%22properties%22%3A%20%7B%22Name%22%3A%20%22Liberator_Tomo%22%2C%20%22Type%22%3A%20%223D%22%2C%20%22crs%22%3A%20%22EPSG%3A28354%22%7D%2C%20%22type%22%3A%20%22Feature%22%7D%2C%20%7B%22geometry%22%3A%20%7B%22coordinates%22%3A%20%5B%5B%5B127.8769314528166%2C%20-13.734984131517505%5D%2C%20%5B128.02998454621982%2C%20-13.885867177934337%5D%2C%20%5B128.14458136247478%2C%20-13.77473543293653%5D%2C%20%5B127.99151703622306%2C%20-13.623922136724605%5D%2C%20%5B127.8769314528166%2C%20-13.734984131517505%5D%5D%5D%2C%20%22type%22%3A%20%22Polygon%22%7D%2C%20%22properties%22%3A%20%7B%22Name%22%3A%20%22Mumbai2019%22%2C%20%22Type%22%3A%20%222D3D%22%2C%20%22crs%22%3A%20%22EPSG%3A28352%22%7D%2C%20%22type%22%3A%20%22Feature%22%7D%2C%20%7B%22geometry%22%3A%20%7B%22coordinates%22%3A%20%5B%5B%5B-102.25210144910159%2C%2036.23070969902782%5D%2C%20%5B-102.19088144518389%2C%2036.30491285507581%5D%2C%20%5B-102.24349592984031%2C%2036.33887847583746%5D%2C%20%5B-102.30455084695782%2C%2036.264652363907196%5D%2C%20%5B-102.25210144910159%2C%2036.23070969902782%5D%5D%5D%2C%20%22type%22%3A%20%22Polygon%22%7D%2C%20%22properties%22%3A%20%7B%22Name%22%3A%20%22Penobscot%22%2C%20%22Type%22%3A%20%222D3D%22%2C%20%22crs%22%3A%20%22EPSG%3A2294%22%7D%2C%20%22type%22%3A%20%22Feature%22%7D%2C%20%7B%22geometry%22%3A%20%7B%22coordinates%22%3A%20%5B%5B%5B127.78386483554713%2C%20-13.989698207377252%5D%2C%20%5B127.78514461963154%2C%20-13.743808875444905%5D%2C%20%5B128.16248008330578%2C%20-13.745378702243121%5D%2C%20%5B128.16159766262004%2C%20-13.9912972151012%5D%2C%20%5B127.78386483554713%2C%20-13.989698207377252%5D%5D%5D%2C%20%22type%22%3A%20%22Polygon%22%7D%2C%20%22properties%22%3A%20%7B%22Name%22%3A%20%22Petrel_SubBasin%22%2C%20%22Type%22%3A%20%222D%22%2C%20%22crs%22%3A%20%22EPSG%3A28352%22%7D%2C%20%22type%22%3A%20%22Feature%22%7D%2C%20%7B%22geometry%22%3A%20%7B%22coordinates%22%3A%20%5B%5B%5B139.47686068940519%2C%20-27.664458518750425%5D%2C%20%5B139.78866287664738%2C%20-27.66753504676894%5D%2C%20%5B139.79325313895635%2C%20-27.246743507964435%5D%2C%20%5B139.48263150668518%2C%20-27.24372146709192%5D%2C%20%5B139.47686068940519%2C%20-27.664458518750425%5D%5D%5D%2C%20%22type%22%3A%20%22Polygon%22%7D%2C%20%22properties%22%3A%20%7B%22Name%22%3A%20%22Senex_Liberator%22%2C%20%22Type%22%3A%20%222D3D%22%2C%20%22crs%22%3A%20%22EPSG%3A28354%22%7D%2C%20%22type%22%3A%20%22Feature%22%7D%2C%20%7B%22geometry%22%3A%20%7B%22coordinates%22%3A%20%5B%5B%5B139.52123534615507%2C%20-28.47643341981652%5D%2C%20%5B139.86472677032594%2C%20-28.431723820463144%5D%2C%20%5B139.8276528731294%2C%20-28.21099344246035%5D%2C%20%5B139.48486379833642%2C%20-28.25563533393708%5D%2C%20%5B139.52123534615507%2C%20-28.47643341981652%5D%5D%5D%2C%20%22type%22%3A%20%22Polygon%22%7D%2C%20%22properties%22%3A%20%7B%22Name%22%3A%20%22Senex_Westeros%22%2C%20%22Type%22%3A%20%223D%22%2C%20%22crs%22%3A%20%22EPSG%3A28354%22%7D%2C%20%22type%22%3A%20%22Feature%22%7D%2C%20%7B%22geometry%22%3A%20%7B%22coordinates%22%3A%20%5B%5B%5B5.442559222459534%2C%2053.99835381642717%5D%2C%20%5B5.878332496587156%2C%2053.98870162146792%5D%2C%20%5B5.8831126878893745%2C%2054.057820790127536%5D%2C%20%5B5.446617619630104%2C%2054.06749736550819%5D%2C%20%5B5.442559222459534%2C%2053.99835381642717%5D%5D%5D%2C%20%22type%22%3A%20%22Polygon%22%7D%2C%20%22properties%22%3A%20%7B%22Name%22%3A%20%22TNW-Depth-DGb%22%2C%20%22Type%22%3A%20%222D3D%22%2C%20%22crs%22%3A%20%22EPSG%3A3043%22%7D%2C%20%22type%22%3A%20%22Feature%22%7D%2C%20%7B%22geometry%22%3A%20%7B%22coordinates%22%3A%20%5B%5B%5B10.62351682894191%2C%2060.91229534255203%5D%2C%20%5B10.623691590474149%2C%2060.95739161266832%5D%2C%20%5B10.702133478623908%2C%2060.95729680045501%5D%2C%20%5B10.701847889495783%2C%2060.91220070506639%5D%2C%20%5B10.62351682894191%2C%2060.91229534255203%5D%5D%5D%2C%20%22type%22%3A%20%22Polygon%22%7D%2C%20%22properties%22%3A%20%7B%22Name%22%3A%20%22v07_200018_MJOSA_2_DEPTH%22%2C%20%22Type%22%3A%20%222D3D%22%2C%20%22crs%22%3A%20%22EPSG%3A5110%22%7D%2C%20%22type%22%3A%20%22Feature%22%7D%2C%20%7B%22geometry%22%3A%20%7B%22coordinates%22%3A%20%5B%5B%5B145.9712443744111%2C%20-48.86703800123467%5D%2C%20%5B146.4973084986711%2C%20-48.33517888389634%5D%2C%20%5B146.7200228560022%2C%20-48.43648456652506%5D%2C%20%5B146.1910028027011%2C%20-48.960169542760035%5D%2C%20%5B145.9712443744111%2C%20-48.86703800123467%5D%5D%5D%2C%20%22type%22%3A%20%22Polygon%22%7D%2C%20%22properties%22%3A%20%7B%22Name%22%3A%20%22Waka_Time%22%2C%20%22Type%22%3A%20%222D3D%22%2C%20%22crs%22%3A%20%22EPSG%3A27200%22%7D%2C%20%22type%22%3A%20%22Feature%22%7D%5D%2C%20%22type%22%3A%20%22FeatureCollection%22%7D%29%3B%0A%0A%20%20%20%20%20%20%20%20%0A%20%20%20%20%0A%20%20%20%20geo_json_7d51d3bac4684056b31303fc4eac2f61.bindPopup%28%0A%20%20%20%20function%28layer%29%7B%0A%20%20%20%20let%20div%20%3D%20L.DomUtil.create%28%27div%27%29%3B%0A%20%20%20%20%0A%20%20%20%20let%20handleObject%20%3D%20feature%3D%3Etypeof%28feature%29%3D%3D%27object%27%20%3F%20JSON.stringify%28feature%29%20%3A%20feature%3B%0A%20%20%20%20let%20fields%20%3D%20%5B%22Name%22%2C%20%22Type%22%5D%3B%0A%20%20%20%20let%20aliases%20%3D%20%5B%22Name%22%2C%20%22Type%22%5D%3B%0A%20%20%20%20let%20table%20%3D%20%27%3Ctable%3E%27%20%2B%0A%20%20%20%20%20%20%20%20String%28%0A%20%20%20%20%20%20%20%20fields.map%28%0A%20%20%20%20%20%20%20%20%28v%2Ci%29%3D%3E%0A%20%20%20%20%20%20%20%20%60%3Ctr%3E%0A%20%20%20%20%20%20%20%20%20%20%20%20%3Cth%3E%24%7Baliases%5Bi%5D.toLocaleString%28%29%7D%3C/th%3E%0A%20%20%20%20%20%20%20%20%20%20%20%20%0A%20%20%20%20%20%20%20%20%20%20%20%20%3Ctd%3E%24%7BhandleObject%28layer.feature.properties%5Bv%5D%29.toLocaleString%28%29%7D%3C/td%3E%0A%20%20%20%20%20%20%20%20%3C/tr%3E%60%29.join%28%27%27%29%29%0A%20%20%20%20%2B%27%3C/table%3E%27%3B%0A%20%20%20%20div.innerHTML%3Dtable%3B%0A%20%20%20%20%0A%20%20%20%20return%20div%0A%20%20%20%20%7D%0A%20%20%20%20%2C%7B%22className%22%3A%20%22foliumpopup%22%7D%29%3B%0A%20%20%20%20%20%20%20%20%20%20%20%20%20%20%20%20%20%20%20%20%20%0A%3C/script%3E onload=\"this.contentDocument.open();this.contentDocument.write(    decodeURIComponent(this.getAttribute('data-html')));this.contentDocument.close();\" allowfullscreen webkitallowfullscreen mozallowfullscreen></iframe></div></div>"
      ],
      "text/plain": [
       "<folium.folium.Map at 0x7fc69d3f9610>"
      ]
     },
     "execution_count": 9,
     "metadata": {},
     "output_type": "execute_result"
    }
   ],
   "source": [
    "import folium\n",
    "survmap = folium.Map(location=[52.3,8.0], tiles=\"Stamen Terrain\", zoom_start = 6, min_lat=-90, max_lat=90, min_lon=-180, max_lon=180, max_bounds=True, maxBoundsViscosity=1)\n",
    "folium.GeoJson(wmodpy.get_survey_features(data_root), popup=folium.GeoJsonPopup(fields=['Name','Type'])).add_to(survmap)\n",
    "survmap"
   ]
  },
  {
   "cell_type": "markdown",
   "metadata": {},
   "source": [
    "## wmodpy.Survey Class\n",
    "This class provides some basic information about an OpendTect project/survey. Creating a Survey object requires both the base data folder location and the project/survey name. The other data specific classes provided by the bindings require a Survey object for context."
   ]
  },
  {
   "cell_type": "code",
   "execution_count": 10,
   "metadata": {},
   "outputs": [
    {
     "data": {
      "text/plain": [
       "'F3 Demo 2020'"
      ]
     },
     "execution_count": 10,
     "metadata": {},
     "output_type": "execute_result"
    }
   ],
   "source": [
    "f3demo = wmodpy.Survey(data_root, 'F3_Demo_2020')\n",
    "f3demo.name()"
   ]
  },
  {
   "cell_type": "code",
   "execution_count": 11,
   "metadata": {},
   "outputs": [
    {
     "data": {
      "text/plain": [
       "{'Name': ['F3 Demo 2020'], 'Type': ['2D3D'], 'crs': ['EPSG:23031']}"
      ]
     },
     "execution_count": 11,
     "metadata": {},
     "output_type": "execute_result"
    }
   ],
   "source": [
    "f3demo.info()"
   ]
  },
  {
   "cell_type": "code",
   "execution_count": 12,
   "metadata": {},
   "outputs": [
    {
     "data": {
      "text/html": [
       "<div>\n",
       "<style scoped>\n",
       "    .dataframe tbody tr th:only-of-type {\n",
       "        vertical-align: middle;\n",
       "    }\n",
       "\n",
       "    .dataframe tbody tr th {\n",
       "        vertical-align: top;\n",
       "    }\n",
       "\n",
       "    .dataframe thead th {\n",
       "        text-align: right;\n",
       "    }\n",
       "</style>\n",
       "<table border=\"1\" class=\"dataframe\">\n",
       "  <thead>\n",
       "    <tr style=\"text-align: right;\">\n",
       "      <th></th>\n",
       "      <th>Name</th>\n",
       "      <th>Type</th>\n",
       "      <th>crs</th>\n",
       "    </tr>\n",
       "  </thead>\n",
       "  <tbody>\n",
       "    <tr>\n",
       "      <th>0</th>\n",
       "      <td>F3 Demo 2020</td>\n",
       "      <td>2D3D</td>\n",
       "      <td>EPSG:23031</td>\n",
       "    </tr>\n",
       "  </tbody>\n",
       "</table>\n",
       "</div>"
      ],
      "text/plain": [
       "           Name  Type         crs\n",
       "0  F3 Demo 2020  2D3D  EPSG:23031"
      ]
     },
     "execution_count": 12,
     "metadata": {},
     "output_type": "execute_result"
    }
   ],
   "source": [
    "f3demo.info_df()"
   ]
  },
  {
   "cell_type": "code",
   "execution_count": 13,
   "metadata": {},
   "outputs": [
    {
     "data": {
      "text/plain": [
       "{'type': 'Feature',\n",
       " 'properties': {'Name': 'F3 Demo 2020', 'Type': '2D3D', 'crs': 'EPSG:23031'},\n",
       " 'geometry': {'type': 'Polygon',\n",
       "  'coordinates': [[[4.644771779014873, 54.79611472015208],\n",
       "    [5.0141138363413145, 54.79650898789612],\n",
       "    [5.014324061777345, 54.94250714050207],\n",
       "    [4.643644415587539, 54.942121470402164],\n",
       "    [4.644771779014873, 54.79611472015208]]]}}"
      ]
     },
     "execution_count": 13,
     "metadata": {},
     "output_type": "execute_result"
    }
   ],
   "source": [
    "f3demo.feature(True)"
   ]
  },
  {
   "cell_type": "code",
   "execution_count": 14,
   "metadata": {},
   "outputs": [
    {
     "name": "stdout",
     "output_type": "stream",
     "text": [
      "Help on class Survey in module wmodpy:\n",
      "\n",
      "class Survey(pybind11_builtins.pybind11_object)\n",
      " |  Encapsulates an OpendTect survey\n",
      " |  \n",
      " |  Method resolution order:\n",
      " |      Survey\n",
      " |      pybind11_builtins.pybind11_object\n",
      " |      builtins.object\n",
      " |  \n",
      " |  Methods defined here:\n",
      " |  \n",
      " |  __init__(...)\n",
      " |      __init__(self: wmodpy.Survey, data_root: str, survey_name: str) -> None\n",
      " |  \n",
      " |  epsg(...)\n",
      " |      epsg(self: wmodpy.Survey) -> str\n",
      " |      \n",
      " |      Return the survey CRS EPSG code\n",
      " |  \n",
      " |  feature(...)\n",
      " |      feature(self: wmodpy.Survey, arg0: bool) -> dict\n",
      " |      \n",
      " |      Return a GeoJSON-like feature (just a Python dict) for the survey\n",
      " |  \n",
      " |  has2d(...)\n",
      " |      has2d(self: wmodpy.Survey) -> bool\n",
      " |      \n",
      " |      Return True if the survey contains 2D seismic data\n",
      " |  \n",
      " |  has3d(...)\n",
      " |      has3d(self: wmodpy.Survey) -> bool\n",
      " |      \n",
      " |      Return True if the the survey contains 3D seismic data\n",
      " |  \n",
      " |  info(...)\n",
      " |      info(self: wmodpy.Survey) -> dict\n",
      " |      \n",
      " |      Return dict with basic information for the survey\n",
      " |  \n",
      " |  info_df(...)\n",
      " |      info_df(self: wmodpy.Survey) -> object\n",
      " |      \n",
      " |      Return Pandas dataframe with basic information for the survey - requires Pandas\n",
      " |  \n",
      " |  isok(...)\n",
      " |      isok(self: wmodpy.Survey) -> bool\n",
      " |      \n",
      " |      Return True if the survey is properly setup and accessible\n",
      " |  \n",
      " |  name(...)\n",
      " |      name(self: wmodpy.Survey) -> str\n",
      " |      \n",
      " |      Return the survey name\n",
      " |  \n",
      " |  points(...)\n",
      " |      points(self: wmodpy.Survey, towgs: bool = False) -> list\n",
      " |      \n",
      " |      Return a list of coordinate lists defining the survey extent in the survey CRS or optionally in WGS84\n",
      " |  \n",
      " |  ----------------------------------------------------------------------\n",
      " |  Static methods inherited from pybind11_builtins.pybind11_object:\n",
      " |  \n",
      " |  __new__(*args, **kwargs) from pybind11_builtins.pybind11_type\n",
      " |      Create and return a new object.  See help(type) for accurate signature.\n",
      "\n"
     ]
    }
   ],
   "source": [
    "help(wmodpy.Survey)"
   ]
  }
 ],
 "metadata": {
  "interpreter": {
   "hash": "4896424e00dd6826f6ad01c1c9aba715374fe393b4ced6edf90973db59a59a2b"
  },
  "kernelspec": {
   "display_name": "Python 3.7.10 64-bit ('pylops37': conda)",
   "name": "python3"
  },
  "language_info": {
   "codemirror_mode": {
    "name": "ipython",
    "version": 3
   },
   "file_extension": ".py",
   "mimetype": "text/x-python",
   "name": "python",
   "nbconvert_exporter": "python",
   "pygments_lexer": "ipython3",
   "version": "3.7.10"
  },
  "nteract": {
   "version": "0.28.0"
  }
 },
 "nbformat": 4,
 "nbformat_minor": 4
}