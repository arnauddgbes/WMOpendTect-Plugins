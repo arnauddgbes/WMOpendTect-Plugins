{
 "cells": [
  {
   "cell_type": "markdown",
   "metadata": {},
   "source": [
    "# OpendTect Python Bindings - Wells"
   ]
  },
  {
   "source": [
    "import sys\n",
    "sys.path.insert(0,r'C:\\Program Files\\OpendTect_6\\6.6.0\\bin\\win64\\Release')\n",
    "import wmodpy"
   ],
   "cell_type": "code",
   "metadata": {
    "jupyter": {
     "outputs_hidden": true,
     "source_hidden": false
    },
    "nteract": {
     "transient": {
      "deleting": false
     }
    }
   },
   "execution_count": 13,
   "outputs": []
  },
  {
   "cell_type": "markdown",
   "metadata": {},
   "source": [
    "## Wells Class\n",
    "This class provides access to well data within an OpendTect project/survey. Creating a Wells object requires a Survey object for context. Methods are provided to:\n",
    "-  List the names of all wells in the project/survey\n",
    "-  List summary information on all wells\n",
    "-  List well log information in a well\n",
    "-  List markers in a well\n",
    "-  List a well track\n",
    "\n",
    "The base methods generally output Python Dictionaries but variants are provided to output Pandas Dataframe (method name suffixed by \"_df\") and GeoPandas GeoDataframe (method name suffixed by \"_gdf\") if your Python environment includes those packages. \n",
    " "
   ]
  },
  {
   "cell_type": "code",
   "execution_count": 14,
   "metadata": {},
   "outputs": [
    {
     "output_type": "execute_result",
     "data": {
      "text/plain": [
       "['F02-1', 'F03-2', 'F03-4', 'F06-1', 'F02-01_welltrack']"
      ]
     },
     "metadata": {},
     "execution_count": 14
    }
   ],
   "source": [
    "f3demo = wmodpy.Survey('Z:\\ODData', 'F3_Demo_2020')\n",
    "f3demo_wells = wmodpy.Wells(f3demo)\n",
    "f3demo_wells.names()"
   ]
  },
  {
   "cell_type": "code",
   "execution_count": 15,
   "metadata": {},
   "outputs": [
    {
     "output_type": "execute_result",
     "data": {
      "text/plain": [
       "{'Name': ['F02-1', 'F03-2', 'F03-4', 'F06-1', 'F02-01_welltrack'],\n",
       " 'UWID': ['', '', '', '', ''],\n",
       " 'State': ['', '', '', '', ''],\n",
       " 'County': ['', '', '', '', ''],\n",
       " 'WellType': ['none', 'none', 'none', 'none', 'none'],\n",
       " 'X': [606554.0, 619101.0, 623255.98, 607903.0, 606554.0],\n",
       " 'Y': [6080126.0, 6089491.0, 6082586.87, 6077213.0, 6080126.0],\n",
       " 'ReplacementVelocity': [2000.0, 2000.0, 2000.0, 2000.0, 2000.0],\n",
       " 'GroundElevation': [1.0000000150474662e+30,\n",
       "  1.0000000150474662e+30,\n",
       "  1.0000000150474662e+30,\n",
       "  1.0000000150474662e+30,\n",
       "  1.0000000150474662e+30]}"
      ]
     },
     "metadata": {},
     "execution_count": 15
    }
   ],
   "source": [
    "f3demo_wells.info()"
   ]
  },
  {
   "cell_type": "code",
   "execution_count": 16,
   "metadata": {},
   "outputs": [
    {
     "output_type": "execute_result",
     "data": {
      "text/plain": [
       "               Name UWID State County WellType          X           Y  \\\n",
       "0             F02-1                       none  606554.00  6080126.00   \n",
       "1             F03-2                       none  619101.00  6089491.00   \n",
       "2             F03-4                       none  623255.98  6082586.87   \n",
       "3             F06-1                       none  607903.00  6077213.00   \n",
       "4  F02-01_welltrack                       none  606554.00  6080126.00   \n",
       "\n",
       "   ReplacementVelocity  GroundElevation  \n",
       "0               2000.0     1.000000e+30  \n",
       "1               2000.0     1.000000e+30  \n",
       "2               2000.0     1.000000e+30  \n",
       "3               2000.0     1.000000e+30  \n",
       "4               2000.0     1.000000e+30  "
      ],
      "text/html": "<div>\n<style scoped>\n    .dataframe tbody tr th:only-of-type {\n        vertical-align: middle;\n    }\n\n    .dataframe tbody tr th {\n        vertical-align: top;\n    }\n\n    .dataframe thead th {\n        text-align: right;\n    }\n</style>\n<table border=\"1\" class=\"dataframe\">\n  <thead>\n    <tr style=\"text-align: right;\">\n      <th></th>\n      <th>Name</th>\n      <th>UWID</th>\n      <th>State</th>\n      <th>County</th>\n      <th>WellType</th>\n      <th>X</th>\n      <th>Y</th>\n      <th>ReplacementVelocity</th>\n      <th>GroundElevation</th>\n    </tr>\n  </thead>\n  <tbody>\n    <tr>\n      <th>0</th>\n      <td>F02-1</td>\n      <td></td>\n      <td></td>\n      <td></td>\n      <td>none</td>\n      <td>606554.00</td>\n      <td>6080126.00</td>\n      <td>2000.0</td>\n      <td>1.000000e+30</td>\n    </tr>\n    <tr>\n      <th>1</th>\n      <td>F03-2</td>\n      <td></td>\n      <td></td>\n      <td></td>\n      <td>none</td>\n      <td>619101.00</td>\n      <td>6089491.00</td>\n      <td>2000.0</td>\n      <td>1.000000e+30</td>\n    </tr>\n    <tr>\n      <th>2</th>\n      <td>F03-4</td>\n      <td></td>\n      <td></td>\n      <td></td>\n      <td>none</td>\n      <td>623255.98</td>\n      <td>6082586.87</td>\n      <td>2000.0</td>\n      <td>1.000000e+30</td>\n    </tr>\n    <tr>\n      <th>3</th>\n      <td>F06-1</td>\n      <td></td>\n      <td></td>\n      <td></td>\n      <td>none</td>\n      <td>607903.00</td>\n      <td>6077213.00</td>\n      <td>2000.0</td>\n      <td>1.000000e+30</td>\n    </tr>\n    <tr>\n      <th>4</th>\n      <td>F02-01_welltrack</td>\n      <td></td>\n      <td></td>\n      <td></td>\n      <td>none</td>\n      <td>606554.00</td>\n      <td>6080126.00</td>\n      <td>2000.0</td>\n      <td>1.000000e+30</td>\n    </tr>\n  </tbody>\n</table>\n</div>"
     },
     "metadata": {},
     "execution_count": 16
    }
   ],
   "source": [
    "f3demo_wells.info_df()"
   ]
  },
  {
   "cell_type": "code",
   "execution_count": 17,
   "metadata": {},
   "outputs": [
    {
     "output_type": "execute_result",
     "data": {
      "text/plain": [
       "                                                 Name   Mnem  \\\n",
       "0                                               Sonic     DT   \n",
       "1                                           Gamma Ray     GR   \n",
       "2                                            Porosity    PHI   \n",
       "3                                         P-Impedance    IMP   \n",
       "4                                     P-Impedance_rel    IMP   \n",
       "5                                                  Vp    VEL   \n",
       "6                                              Vp_BLI    VEL   \n",
       "7                                              Vs_BLI    VEL   \n",
       "8                                         Density_BLI   RHOB   \n",
       "9   Litholog (10=sand 15=silt 20=silty shale 30=sh...  LITHO   \n",
       "10                                                GR2    OTH   \n",
       "11                                     Sonic_upscaled     DT   \n",
       "12                                    Sonic_resampled     DT   \n",
       "\n",
       "                     Uom                                  DahRange  \\\n",
       "0                  us/ft   (305.1000061035156, 1424.0999755859375)   \n",
       "1                    API  (50.099998474121094, 1499.8499755859375)   \n",
       "2               Fraction   (305.1000061035156, 1424.1700439453125)   \n",
       "3   Meter/second x Kg/m3  (262.04998779296875, 1499.8399658203125)   \n",
       "4   Meter/second x Kg/m3  (262.04998779296875, 1499.8399658203125)   \n",
       "5           Meter/second   (305.1000061035156, 1424.0999755859375)   \n",
       "6           Meter/second    (795.1500244140625, 1136.699951171875)   \n",
       "7           Meter/second   (795.1500244140625, 1149.4500732421875)   \n",
       "8                   g/cc   (795.1500244140625, 1131.9000244140625)   \n",
       "9                         (50.099998474121094, 1499.7244873046875)   \n",
       "10                                       (50.0, 1499.728759765625)   \n",
       "11                 us/ft                           (305.0, 1424.0)   \n",
       "12                 us/ft   (305.1000061035156, 1423.9500732421875)   \n",
       "\n",
       "                                    ValueRange  \n",
       "0     (112.20144653320312, 176.78977966308594)  \n",
       "1       (1.3392000198364258, 129.177001953125)  \n",
       "2   (0.25765201449394226, 0.40758100152015686)  \n",
       "3                       (2846140.0, 5978060.0)  \n",
       "4                        (-477863.0, 410655.0)  \n",
       "5      (1724.3699951171875, 2714.530029296875)  \n",
       "6        (2098.55712890625, 2567.929443359375)  \n",
       "7          (1009.1357421875, 1290.41943359375)  \n",
       "8       (2.120548963546753, 2.260430097579956)  \n",
       "9                                 (10.0, 30.0)  \n",
       "10                    (-20.0, 258.35400390625)  \n",
       "11                    (1.0, 168.8046417236328)  \n",
       "12    (112.20144653320312, 176.78977966308594)  "
      ],
      "text/html": "<div>\n<style scoped>\n    .dataframe tbody tr th:only-of-type {\n        vertical-align: middle;\n    }\n\n    .dataframe tbody tr th {\n        vertical-align: top;\n    }\n\n    .dataframe thead th {\n        text-align: right;\n    }\n</style>\n<table border=\"1\" class=\"dataframe\">\n  <thead>\n    <tr style=\"text-align: right;\">\n      <th></th>\n      <th>Name</th>\n      <th>Mnem</th>\n      <th>Uom</th>\n      <th>DahRange</th>\n      <th>ValueRange</th>\n    </tr>\n  </thead>\n  <tbody>\n    <tr>\n      <th>0</th>\n      <td>Sonic</td>\n      <td>DT</td>\n      <td>us/ft</td>\n      <td>(305.1000061035156, 1424.0999755859375)</td>\n      <td>(112.20144653320312, 176.78977966308594)</td>\n    </tr>\n    <tr>\n      <th>1</th>\n      <td>Gamma Ray</td>\n      <td>GR</td>\n      <td>API</td>\n      <td>(50.099998474121094, 1499.8499755859375)</td>\n      <td>(1.3392000198364258, 129.177001953125)</td>\n    </tr>\n    <tr>\n      <th>2</th>\n      <td>Porosity</td>\n      <td>PHI</td>\n      <td>Fraction</td>\n      <td>(305.1000061035156, 1424.1700439453125)</td>\n      <td>(0.25765201449394226, 0.40758100152015686)</td>\n    </tr>\n    <tr>\n      <th>3</th>\n      <td>P-Impedance</td>\n      <td>IMP</td>\n      <td>Meter/second x Kg/m3</td>\n      <td>(262.04998779296875, 1499.8399658203125)</td>\n      <td>(2846140.0, 5978060.0)</td>\n    </tr>\n    <tr>\n      <th>4</th>\n      <td>P-Impedance_rel</td>\n      <td>IMP</td>\n      <td>Meter/second x Kg/m3</td>\n      <td>(262.04998779296875, 1499.8399658203125)</td>\n      <td>(-477863.0, 410655.0)</td>\n    </tr>\n    <tr>\n      <th>5</th>\n      <td>Vp</td>\n      <td>VEL</td>\n      <td>Meter/second</td>\n      <td>(305.1000061035156, 1424.0999755859375)</td>\n      <td>(1724.3699951171875, 2714.530029296875)</td>\n    </tr>\n    <tr>\n      <th>6</th>\n      <td>Vp_BLI</td>\n      <td>VEL</td>\n      <td>Meter/second</td>\n      <td>(795.1500244140625, 1136.699951171875)</td>\n      <td>(2098.55712890625, 2567.929443359375)</td>\n    </tr>\n    <tr>\n      <th>7</th>\n      <td>Vs_BLI</td>\n      <td>VEL</td>\n      <td>Meter/second</td>\n      <td>(795.1500244140625, 1149.4500732421875)</td>\n      <td>(1009.1357421875, 1290.41943359375)</td>\n    </tr>\n    <tr>\n      <th>8</th>\n      <td>Density_BLI</td>\n      <td>RHOB</td>\n      <td>g/cc</td>\n      <td>(795.1500244140625, 1131.9000244140625)</td>\n      <td>(2.120548963546753, 2.260430097579956)</td>\n    </tr>\n    <tr>\n      <th>9</th>\n      <td>Litholog (10=sand 15=silt 20=silty shale 30=sh...</td>\n      <td>LITHO</td>\n      <td></td>\n      <td>(50.099998474121094, 1499.7244873046875)</td>\n      <td>(10.0, 30.0)</td>\n    </tr>\n    <tr>\n      <th>10</th>\n      <td>GR2</td>\n      <td>OTH</td>\n      <td></td>\n      <td>(50.0, 1499.728759765625)</td>\n      <td>(-20.0, 258.35400390625)</td>\n    </tr>\n    <tr>\n      <th>11</th>\n      <td>Sonic_upscaled</td>\n      <td>DT</td>\n      <td>us/ft</td>\n      <td>(305.0, 1424.0)</td>\n      <td>(1.0, 168.8046417236328)</td>\n    </tr>\n    <tr>\n      <th>12</th>\n      <td>Sonic_resampled</td>\n      <td>DT</td>\n      <td>us/ft</td>\n      <td>(305.1000061035156, 1423.9500732421875)</td>\n      <td>(112.20144653320312, 176.78977966308594)</td>\n    </tr>\n  </tbody>\n</table>\n</div>"
     },
     "metadata": {},
     "execution_count": 17
    }
   ],
   "source": [
    "f3demo_wells.log_info_df('F02-1')"
   ]
  },
  {
   "cell_type": "code",
   "execution_count": 18,
   "metadata": {},
   "outputs": [
    {
     "output_type": "execute_result",
     "data": {
      "text/plain": [
       "            Name    Color           MD\n",
       "0     Seasurface  #dc3232    30.000000\n",
       "1          MFS11  #3232dc   479.739990\n",
       "2       FS11_new  #32c832   515.340027\n",
       "3          MFS10  #32c8c8   547.750000\n",
       "4           MFS9  #ffd200   547.750000\n",
       "5           MFS8  #dc00dc   547.750000\n",
       "6            FS8  #00ff00   568.969971\n",
       "7            FS7  #3232dc   583.969971\n",
       "8     Truncation  #aa55ff   662.539978\n",
       "9   Top Foresets  #ff0000   697.109985\n",
       "10           FS6  #ffaa00   856.080017\n",
       "11          MFS4  #0055ff   916.679993\n",
       "12           FS4  #32c832   946.500000\n",
       "13           FS3  #32c8c8  1024.390015\n",
       "14           FS2  #ffd200  1071.119995\n",
       "15          MFS2  #dc00dc  1111.130005\n",
       "16           FS1  #8c8250  1200.930054\n",
       "17          Test  #808080  1240.000000\n",
       "18           MMU  #ff0000  1246.000000"
      ],
      "text/html": "<div>\n<style scoped>\n    .dataframe tbody tr th:only-of-type {\n        vertical-align: middle;\n    }\n\n    .dataframe tbody tr th {\n        vertical-align: top;\n    }\n\n    .dataframe thead th {\n        text-align: right;\n    }\n</style>\n<table border=\"1\" class=\"dataframe\">\n  <thead>\n    <tr style=\"text-align: right;\">\n      <th></th>\n      <th>Name</th>\n      <th>Color</th>\n      <th>MD</th>\n    </tr>\n  </thead>\n  <tbody>\n    <tr>\n      <th>0</th>\n      <td>Seasurface</td>\n      <td>#dc3232</td>\n      <td>30.000000</td>\n    </tr>\n    <tr>\n      <th>1</th>\n      <td>MFS11</td>\n      <td>#3232dc</td>\n      <td>479.739990</td>\n    </tr>\n    <tr>\n      <th>2</th>\n      <td>FS11_new</td>\n      <td>#32c832</td>\n      <td>515.340027</td>\n    </tr>\n    <tr>\n      <th>3</th>\n      <td>MFS10</td>\n      <td>#32c8c8</td>\n      <td>547.750000</td>\n    </tr>\n    <tr>\n      <th>4</th>\n      <td>MFS9</td>\n      <td>#ffd200</td>\n      <td>547.750000</td>\n    </tr>\n    <tr>\n      <th>5</th>\n      <td>MFS8</td>\n      <td>#dc00dc</td>\n      <td>547.750000</td>\n    </tr>\n    <tr>\n      <th>6</th>\n      <td>FS8</td>\n      <td>#00ff00</td>\n      <td>568.969971</td>\n    </tr>\n    <tr>\n      <th>7</th>\n      <td>FS7</td>\n      <td>#3232dc</td>\n      <td>583.969971</td>\n    </tr>\n    <tr>\n      <th>8</th>\n      <td>Truncation</td>\n      <td>#aa55ff</td>\n      <td>662.539978</td>\n    </tr>\n    <tr>\n      <th>9</th>\n      <td>Top Foresets</td>\n      <td>#ff0000</td>\n      <td>697.109985</td>\n    </tr>\n    <tr>\n      <th>10</th>\n      <td>FS6</td>\n      <td>#ffaa00</td>\n      <td>856.080017</td>\n    </tr>\n    <tr>\n      <th>11</th>\n      <td>MFS4</td>\n      <td>#0055ff</td>\n      <td>916.679993</td>\n    </tr>\n    <tr>\n      <th>12</th>\n      <td>FS4</td>\n      <td>#32c832</td>\n      <td>946.500000</td>\n    </tr>\n    <tr>\n      <th>13</th>\n      <td>FS3</td>\n      <td>#32c8c8</td>\n      <td>1024.390015</td>\n    </tr>\n    <tr>\n      <th>14</th>\n      <td>FS2</td>\n      <td>#ffd200</td>\n      <td>1071.119995</td>\n    </tr>\n    <tr>\n      <th>15</th>\n      <td>MFS2</td>\n      <td>#dc00dc</td>\n      <td>1111.130005</td>\n    </tr>\n    <tr>\n      <th>16</th>\n      <td>FS1</td>\n      <td>#8c8250</td>\n      <td>1200.930054</td>\n    </tr>\n    <tr>\n      <th>17</th>\n      <td>Test</td>\n      <td>#808080</td>\n      <td>1240.000000</td>\n    </tr>\n    <tr>\n      <th>18</th>\n      <td>MMU</td>\n      <td>#ff0000</td>\n      <td>1246.000000</td>\n    </tr>\n  </tbody>\n</table>\n</div>"
     },
     "metadata": {},
     "execution_count": 18
    }
   ],
   "source": [
    "f3demo_wells.markers_df('F03-4')"
   ]
  },
  {
   "cell_type": "code",
   "execution_count": 19,
   "metadata": {},
   "outputs": [
    {
     "output_type": "execute_result",
     "data": {
      "text/plain": [
       "        md        tvdss            x          y\n",
       "0      0.0   -34.099998  623256.0000  6082587.0\n",
       "1    100.0    65.900002  623256.0000  6082587.0\n",
       "2    270.0   235.870056  623255.8750  6082590.0\n",
       "3    380.0   345.859985  623255.8750  6082591.5\n",
       "4    475.0   440.859985  623255.8125  6082591.5\n",
       "5    655.0   620.859985  623255.8125  6082592.5\n",
       "6    751.0   716.849976  623255.8125  6082593.5\n",
       "7    856.0   821.840088  623255.7500  6082594.5\n",
       "8    952.0   917.840088  623255.7500  6082595.5\n",
       "9   1000.0   965.830078  623255.6875  6082596.5\n",
       "10  1106.0  1071.829956  623255.6875  6082597.5\n",
       "11  1201.0  1166.829956  623255.6250  6082598.0\n",
       "12  1297.0  1262.819946  623255.6250  6082599.0\n",
       "13  1400.0  1365.810059  623255.6250  6082600.0\n",
       "14  1737.0  1702.760010  623255.4375  6082606.0\n",
       "15  1941.0  1906.729980  623255.3125  6082609.5\n",
       "16  2048.0  2013.709961  623255.2500  6082611.5"
      ],
      "text/html": "<div>\n<style scoped>\n    .dataframe tbody tr th:only-of-type {\n        vertical-align: middle;\n    }\n\n    .dataframe tbody tr th {\n        vertical-align: top;\n    }\n\n    .dataframe thead th {\n        text-align: right;\n    }\n</style>\n<table border=\"1\" class=\"dataframe\">\n  <thead>\n    <tr style=\"text-align: right;\">\n      <th></th>\n      <th>md</th>\n      <th>tvdss</th>\n      <th>x</th>\n      <th>y</th>\n    </tr>\n  </thead>\n  <tbody>\n    <tr>\n      <th>0</th>\n      <td>0.0</td>\n      <td>-34.099998</td>\n      <td>623256.0000</td>\n      <td>6082587.0</td>\n    </tr>\n    <tr>\n      <th>1</th>\n      <td>100.0</td>\n      <td>65.900002</td>\n      <td>623256.0000</td>\n      <td>6082587.0</td>\n    </tr>\n    <tr>\n      <th>2</th>\n      <td>270.0</td>\n      <td>235.870056</td>\n      <td>623255.8750</td>\n      <td>6082590.0</td>\n    </tr>\n    <tr>\n      <th>3</th>\n      <td>380.0</td>\n      <td>345.859985</td>\n      <td>623255.8750</td>\n      <td>6082591.5</td>\n    </tr>\n    <tr>\n      <th>4</th>\n      <td>475.0</td>\n      <td>440.859985</td>\n      <td>623255.8125</td>\n      <td>6082591.5</td>\n    </tr>\n    <tr>\n      <th>5</th>\n      <td>655.0</td>\n      <td>620.859985</td>\n      <td>623255.8125</td>\n      <td>6082592.5</td>\n    </tr>\n    <tr>\n      <th>6</th>\n      <td>751.0</td>\n      <td>716.849976</td>\n      <td>623255.8125</td>\n      <td>6082593.5</td>\n    </tr>\n    <tr>\n      <th>7</th>\n      <td>856.0</td>\n      <td>821.840088</td>\n      <td>623255.7500</td>\n      <td>6082594.5</td>\n    </tr>\n    <tr>\n      <th>8</th>\n      <td>952.0</td>\n      <td>917.840088</td>\n      <td>623255.7500</td>\n      <td>6082595.5</td>\n    </tr>\n    <tr>\n      <th>9</th>\n      <td>1000.0</td>\n      <td>965.830078</td>\n      <td>623255.6875</td>\n      <td>6082596.5</td>\n    </tr>\n    <tr>\n      <th>10</th>\n      <td>1106.0</td>\n      <td>1071.829956</td>\n      <td>623255.6875</td>\n      <td>6082597.5</td>\n    </tr>\n    <tr>\n      <th>11</th>\n      <td>1201.0</td>\n      <td>1166.829956</td>\n      <td>623255.6250</td>\n      <td>6082598.0</td>\n    </tr>\n    <tr>\n      <th>12</th>\n      <td>1297.0</td>\n      <td>1262.819946</td>\n      <td>623255.6250</td>\n      <td>6082599.0</td>\n    </tr>\n    <tr>\n      <th>13</th>\n      <td>1400.0</td>\n      <td>1365.810059</td>\n      <td>623255.6250</td>\n      <td>6082600.0</td>\n    </tr>\n    <tr>\n      <th>14</th>\n      <td>1737.0</td>\n      <td>1702.760010</td>\n      <td>623255.4375</td>\n      <td>6082606.0</td>\n    </tr>\n    <tr>\n      <th>15</th>\n      <td>1941.0</td>\n      <td>1906.729980</td>\n      <td>623255.3125</td>\n      <td>6082609.5</td>\n    </tr>\n    <tr>\n      <th>16</th>\n      <td>2048.0</td>\n      <td>2013.709961</td>\n      <td>623255.2500</td>\n      <td>6082611.5</td>\n    </tr>\n  </tbody>\n</table>\n</div>"
     },
     "metadata": {},
     "execution_count": 19
    }
   ],
   "source": [
    "f3demo_wells.track_df('F03-4')"
   ]
  },
  {
   "cell_type": "code",
   "execution_count": 20,
   "metadata": {},
   "outputs": [
    {
     "output_type": "execute_result",
     "data": {
      "text/plain": [
       "{'MD': array([  50.100002,   50.250004,   50.4     , ..., 1499.4     ,\n",
       "        1499.55    , 1499.7001  ], dtype=float32),\n",
       " 'Gamma Ray': array([ 3.0703  ,  2.7441  ,  2.656402, ..., 28.5281  , 28.5813  ,\n",
       "        28.580807], dtype=float32)}"
      ]
     },
     "metadata": {},
     "execution_count": 20
    }
   ],
   "source": [
    "f3demo_wells.log_data('F02-1',['Gamma Ray'],0.15, wmodpy.Wells.SampleMode.Sample)"
   ]
  },
  {
   "cell_type": "code",
   "execution_count": 21,
   "metadata": {},
   "outputs": [
    {
     "output_type": "execute_result",
     "data": {
      "text/plain": [
       "               MD           Vp       Sonic\n",
       "0      305.250000  1930.219971  159.431122\n",
       "1      305.399994  1910.320068  160.473129\n",
       "2      305.549988  1876.800049  163.006119\n",
       "3      305.700012  1856.055054  164.884308\n",
       "4      305.850006  1865.390015  162.624664\n",
       "...           ...          ...         ...\n",
       "7454  1423.350098  1985.439941  153.499207\n",
       "7455  1423.500000  1982.094971  153.899216\n",
       "7456  1423.650024  1975.619995  154.328979\n",
       "7457  1423.800049  1969.324951  154.747665\n",
       "7458  1423.950073  1963.270020  155.155701\n",
       "\n",
       "[7459 rows x 3 columns]"
      ],
      "text/html": "<div>\n<style scoped>\n    .dataframe tbody tr th:only-of-type {\n        vertical-align: middle;\n    }\n\n    .dataframe tbody tr th {\n        vertical-align: top;\n    }\n\n    .dataframe thead th {\n        text-align: right;\n    }\n</style>\n<table border=\"1\" class=\"dataframe\">\n  <thead>\n    <tr style=\"text-align: right;\">\n      <th></th>\n      <th>MD</th>\n      <th>Vp</th>\n      <th>Sonic</th>\n    </tr>\n  </thead>\n  <tbody>\n    <tr>\n      <th>0</th>\n      <td>305.250000</td>\n      <td>1930.219971</td>\n      <td>159.431122</td>\n    </tr>\n    <tr>\n      <th>1</th>\n      <td>305.399994</td>\n      <td>1910.320068</td>\n      <td>160.473129</td>\n    </tr>\n    <tr>\n      <th>2</th>\n      <td>305.549988</td>\n      <td>1876.800049</td>\n      <td>163.006119</td>\n    </tr>\n    <tr>\n      <th>3</th>\n      <td>305.700012</td>\n      <td>1856.055054</td>\n      <td>164.884308</td>\n    </tr>\n    <tr>\n      <th>4</th>\n      <td>305.850006</td>\n      <td>1865.390015</td>\n      <td>162.624664</td>\n    </tr>\n    <tr>\n      <th>...</th>\n      <td>...</td>\n      <td>...</td>\n      <td>...</td>\n    </tr>\n    <tr>\n      <th>7454</th>\n      <td>1423.350098</td>\n      <td>1985.439941</td>\n      <td>153.499207</td>\n    </tr>\n    <tr>\n      <th>7455</th>\n      <td>1423.500000</td>\n      <td>1982.094971</td>\n      <td>153.899216</td>\n    </tr>\n    <tr>\n      <th>7456</th>\n      <td>1423.650024</td>\n      <td>1975.619995</td>\n      <td>154.328979</td>\n    </tr>\n    <tr>\n      <th>7457</th>\n      <td>1423.800049</td>\n      <td>1969.324951</td>\n      <td>154.747665</td>\n    </tr>\n    <tr>\n      <th>7458</th>\n      <td>1423.950073</td>\n      <td>1963.270020</td>\n      <td>155.155701</td>\n    </tr>\n  </tbody>\n</table>\n<p>7459 rows × 3 columns</p>\n</div>"
     },
     "metadata": {},
     "execution_count": 21
    }
   ],
   "source": [
    "f3demo_wells.log_data_df('F02-1',['Vp','Sonic'],0.15, wmodpy.Wells.SampleMode.Upscale)"
   ]
  },
  {
   "cell_type": "code",
   "execution_count": null,
   "metadata": {},
   "outputs": [],
   "source": []
  }
 ],
 "metadata": {
  "kernelspec": {
   "name": "python379jvsc74a57bd0777d5ea9619744e7adf33ec76bd246d4cc64fed824fe226658ab4ec98e7095fd",
   "display_name": "Python 3.7.9 64-bit ('odtpy37': conda)"
  },
  "language_info": {
   "codemirror_mode": {
    "name": "ipython",
    "version": 3
   },
   "file_extension": ".py",
   "mimetype": "text/x-python",
   "name": "python",
   "nbconvert_exporter": "python",
   "pygments_lexer": "ipython3",
   "version": "3.7.9"
  },
  "nteract": {
   "version": "0.28.0"
  }
 },
 "nbformat": 4,
 "nbformat_minor": 4
}