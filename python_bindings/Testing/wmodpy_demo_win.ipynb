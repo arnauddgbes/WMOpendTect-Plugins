{
 "cells": [
  {
   "cell_type": "markdown",
   "metadata": {},
   "source": [
    "# OpendTect Python Bindings"
   ]
  },
  {
   "source": [
    "Release 6.6.7 of the wmPlugins suite includes experimental Python bindings to OpendTect. There are a number of limitations to be aware of:\n",
    "-  Currently the bindings only provide access to information about Surveys, Wells and Horizons\n",
    "-  The bindings have been built against Python 3.7 and may/may not work with other versions of Python\n",
    "-  The bindings can't be used with a Python IDE that depends on a different Qt version (5.15.1) to OpendTect. This rules out the spyder IDE in the OpendTect Python environments which use Qt 5.9.6\n",
    "-  Visual Studio Code, Jupyter Lab or Notebooks work well \n",
    "\n",
    "## Installation\n",
    "The recommended procedure for installation is to use the OpendTect installation manager to install the wmPlugins. This will install the library containing the bindings in the OpendTect bin/\"Platform\"/Release folder where \"Platform\" will either be win64 for Windows or lux64 for Linux.\n",
    "    \n",
    "You also need a Python environment with at least Numpy. Additional output options exist if your environment has Pandas or  Shapely and Geopandas installed. The OpendTect Python environments don't include Shapely or Geopandas so your options are to use conda to install those dependencies or set up your own custom Python environment if you want the extra fnctionality. \n",
    "    \n",
    "## Setting the PYTHONPATH and Python Environment\n",
    "The folder containing the bindings library must be on the PYTHONPATH to be found by an import statement in a Python script. You can use the OpendTect Python Settings dialog (accessible from the Utilities| Installation|Python Settings application menu) and add the location of the OpendTect executable files to the Custom Module Path. This dialog is also where you can select a custom Python environment to use and also add an icon to the OpendTect toolbar to start your chosen IDE from the specified Custom Python environment with the custom module path added to the PYTHONPATH.\n",
    "\n",
    "![](images/python_settings.jpg)\n",
    "    \n",
    "Alternatively, the PYTHONPATH can be modified in the script or a notebook cell before the actual import."
   ],
   "cell_type": "markdown",
   "metadata": {}
  },
  {
   "source": [
    "import sys\n",
    "sys.path.insert(0,r'C:\\Program Files\\OpendTect_6\\6.6.0\\bin\\win64\\Release')"
   ],
   "cell_type": "code",
   "metadata": {
    "jupyter": {
     "outputs_hidden": true,
     "source_hidden": false
    },
    "nteract": {
     "transient": {
      "deleting": false
     }
    }
   },
   "execution_count": 1,
   "outputs": []
  },
  {
   "cell_type": "markdown",
   "metadata": {},
   "source": [
    "## wmodpy Module\n",
    "The module contains a function (get_surveys)that lists the OpendTect surveys in a user supplied base data folder and classes to access:\n",
    "-  Survey information (Survey class)\n",
    "-  Well data (Wells class)\n",
    "-  2D and 3D horizons (Horizons2D and Horizonz3D classes)\n",
    "\n",
    "If you are working in a Jupyter notebook or Python command shell you can use the help() function to get more information about a class or function:"
   ]
  },
  {
   "cell_type": "code",
   "execution_count": 2,
   "metadata": {},
   "outputs": [
    {
     "output_type": "stream",
     "name": "stdout",
     "text": [
      "Help on built-in function get_surveys in module wmodpy:\n\nget_surveys(...) method of builtins.PyCapsule instance\n    get_surveys(survey_data_root: str) -> list\n    \n    Return list of survey names in given survey data root\n\n"
     ]
    }
   ],
   "source": [
    "import wmodpy\n",
    "help(wmodpy.get_surveys)"
   ]
  },
  {
   "cell_type": "markdown",
   "metadata": {},
   "source": [
    "### wmodpy.get_surveys()\n",
    "Give it the location of a base data folder and you get back a python list of the contained projects/surveys."
   ]
  },
  {
   "cell_type": "code",
   "execution_count": 3,
   "metadata": {},
   "outputs": [
    {
     "output_type": "execute_result",
     "data": {
      "text/plain": [
       "['13CP06_Dundinna', 'Cooper2D']"
      ]
     },
     "metadata": {},
     "execution_count": 3
    }
   ],
   "source": [
    "wmodpy.get_surveys('Z:\\CooperBasin\\ODData')"
   ]
  },
  {
   "cell_type": "markdown",
   "metadata": {},
   "source": [
    "### wmodpy.Survey Class\n",
    "This class provides some basic information about an OpendTect project/survey. Creating a Survey object requires both the base data folder location and the project/survey name. The other data specific classes require a Survey object for context."
   ]
  },
  {
   "cell_type": "code",
   "execution_count": 4,
   "metadata": {},
   "outputs": [
    {
     "output_type": "stream",
     "name": "stdout",
     "text": [
      "Help on class Survey in module wmodpy:\n\nclass Survey(pybind11_builtins.pybind11_object)\n |  Encapsulates an OpendTect survey\n |  \n |  Method resolution order:\n |      Survey\n |      pybind11_builtins.pybind11_object\n |      builtins.object\n |  \n |  Methods defined here:\n |  \n |  __init__(...)\n |      __init__(self: wmodpy.Survey, arg0: str, arg1: str) -> None\n |  \n |  epsg(...)\n |      epsg(self: wmodpy.Survey) -> str\n |      \n |      Return the survey CRS EPSG code\n |  \n |  has2d(...)\n |      has2d(self: wmodpy.Survey) -> bool\n |      \n |      Return True if the survey contains 2D seismic data\n |  \n |  has3d(...)\n |      has3d(self: wmodpy.Survey) -> bool\n |      \n |      Return True if the the survey contains 3D seismic data\n |  \n |  info(...)\n |      info(self: wmodpy.Survey) -> dict\n |      \n |      Return dict with basic information for the survey\n |  \n |  info_df(...)\n |      info_df(self: wmodpy.Survey) -> object\n |      \n |      Return Pandas dataframe with basic information for the survey - requires Pandas\n |  \n |  info_gdf(...)\n |      info_gdf(self: wmodpy.Survey) -> object\n |      \n |      Return GeoPandas geodataframe with basic information for the survey - requires GeoPandas\n |  \n |  isok(...)\n |      isok(self: wmodpy.Survey) -> bool\n |      \n |      Return True if the survey is properly setup and accessible\n |  \n |  name(...)\n |      name(self: wmodpy.Survey) -> str\n |      \n |      Return the survey name\n |  \n |  ----------------------------------------------------------------------\n |  Static methods inherited from pybind11_builtins.pybind11_object:\n |  \n |  __new__(*args, **kwargs) from pybind11_builtins.pybind11_type\n |      Create and return a new object.  See help(type) for accurate signature.\n\n"
     ]
    }
   ],
   "source": [
    "help(wmodpy.Survey)"
   ]
  },
  {
   "cell_type": "code",
   "execution_count": 5,
   "metadata": {},
   "outputs": [
    {
     "output_type": "execute_result",
     "data": {
      "text/plain": [
       "'F3 Demo 2020'"
      ]
     },
     "metadata": {},
     "execution_count": 5
    }
   ],
   "source": [
    "f3demo = wmodpy.Survey('Z:\\ODData', 'F3_Demo_2020')\n",
    "f3demo.name()"
   ]
  },
  {
   "cell_type": "code",
   "execution_count": 6,
   "metadata": {},
   "outputs": [
    {
     "output_type": "execute_result",
     "data": {
      "text/plain": [
       "True"
      ]
     },
     "metadata": {},
     "execution_count": 6
    }
   ],
   "source": [
    "f3demo.has3d()"
   ]
  },
  {
   "cell_type": "code",
   "execution_count": 7,
   "metadata": {},
   "outputs": [
    {
     "output_type": "execute_result",
     "data": {
      "text/plain": [
       "True"
      ]
     },
     "metadata": {},
     "execution_count": 7
    }
   ],
   "source": [
    "f3demo.has2d()"
   ]
  },
  {
   "cell_type": "code",
   "execution_count": 8,
   "metadata": {},
   "outputs": [
    {
     "output_type": "execute_result",
     "data": {
      "text/plain": [
       "'EPSG:23031'"
      ]
     },
     "metadata": {},
     "execution_count": 8
    }
   ],
   "source": [
    "f3demo.epsg() "
   ]
  },
  {
   "cell_type": "markdown",
   "metadata": {},
   "source": [
    "It's easy to work with multiple projects/surveys at the same time:"
   ]
  },
  {
   "cell_type": "code",
   "execution_count": 9,
   "metadata": {},
   "outputs": [
    {
     "output_type": "execute_result",
     "data": {
      "text/plain": [
       "'EPSG:2294'"
      ]
     },
     "metadata": {},
     "execution_count": 9
    }
   ],
   "source": [
    "penobscot = wmodpy.Survey('Z:\\ODData', 'Penobscot')\n",
    "penobscot.epsg()"
   ]
  },
  {
   "cell_type": "code",
   "execution_count": 10,
   "metadata": {},
   "outputs": [
    {
     "output_type": "execute_result",
     "data": {
      "text/plain": [
       "'EPSG:23031'"
      ]
     },
     "metadata": {},
     "execution_count": 10
    }
   ],
   "source": [
    "f3demo.epsg()"
   ]
  },
  {
   "cell_type": "markdown",
   "metadata": {},
   "source": [
    "### wmodpy.Wells Class\n",
    "This class provides access to well data within an OpendTect project/survey. The class constructor requires a Survey object.\n",
    "The names() method provides a list of well names in the project/survey."
   ]
  },
  {
   "cell_type": "code",
   "execution_count": 11,
   "metadata": {},
   "outputs": [
    {
     "output_type": "execute_result",
     "data": {
      "text/plain": [
       "['F02-1', 'F03-2', 'F03-4', 'F06-1', 'F02-01_welltrack']"
      ]
     },
     "metadata": {},
     "execution_count": 11
    }
   ],
   "source": [
    "f3wells = wmodpy.Wells(f3demo)\n",
    "f3wells.names()"
   ]
  },
  {
   "cell_type": "markdown",
   "metadata": {},
   "source": [
    "General well information is available as a python dictionary. "
   ]
  },
  {
   "cell_type": "code",
   "execution_count": 12,
   "metadata": {},
   "outputs": [
    {
     "output_type": "execute_result",
     "data": {
      "text/plain": [
       "{'Name': ['F02-1', 'F03-2', 'F03-4', 'F06-1', 'F02-01_welltrack'],\n",
       " 'UWID': ['', '', '', '', ''],\n",
       " 'State': ['', '', '', '', ''],\n",
       " 'County': ['', '', '', '', ''],\n",
       " 'WellType': ['none', 'none', 'none', 'none', 'none'],\n",
       " 'X': [606554.0, 619101.0, 623255.98, 607903.0, 606554.0],\n",
       " 'Y': [6080126.0, 6089491.0, 6082586.87, 6077213.0, 6080126.0],\n",
       " 'ReplacementVelocity': [2000.0, 2000.0, 2000.0, 2000.0, 2000.0],\n",
       " 'GroundElevation': [1.0000000150474662e+30,\n",
       "  1.0000000150474662e+30,\n",
       "  1.0000000150474662e+30,\n",
       "  1.0000000150474662e+30,\n",
       "  1.0000000150474662e+30]}"
      ]
     },
     "metadata": {},
     "execution_count": 12
    }
   ],
   "source": [
    "f3wells.info()"
   ]
  },
  {
   "cell_type": "code",
   "execution_count": 13,
   "metadata": {},
   "outputs": [
    {
     "output_type": "execute_result",
     "data": {
      "text/plain": [
       "['L-30', 'B-41']"
      ]
     },
     "metadata": {},
     "execution_count": 13
    }
   ],
   "source": [
    "wmodpy.Wells(penobscot).names()"
   ]
  },
  {
   "cell_type": "code",
   "execution_count": 14,
   "metadata": {},
   "outputs": [
    {
     "output_type": "execute_result",
     "data": {
      "text/plain": [
       "{'Name': ['L-30', 'B-41'],\n",
       " 'UWID': ['', ''],\n",
       " 'State': ['', ''],\n",
       " 'County': ['', ''],\n",
       " 'WellType': ['none', 'none'],\n",
       " 'X': [734338.8571, 731133.461],\n",
       " 'Y': [4893837.87, 4894307.877],\n",
       " 'ReplacementVelocity': [2438.400146484375, 2438.400146484375],\n",
       " 'GroundElevation': [1.0000000150474662e+30, 1.0000000150474662e+30]}"
      ]
     },
     "metadata": {},
     "execution_count": 14
    }
   ],
   "source": [
    "wmodpy.Wells(penobscot).info()"
   ]
  },
  {
   "cell_type": "markdown",
   "metadata": {},
   "source": [
    "If your Python environment includes Pandas there is a function with the same name suffixed by \"_df\" which will return the same information directly in a Pandas DataFrame"
   ]
  },
  {
   "cell_type": "code",
   "execution_count": 15,
   "metadata": {},
   "outputs": [
    {
     "output_type": "execute_result",
     "data": {
      "text/plain": [
       "               Name UWID State County WellType          X           Y  \\\n",
       "0             F02-1                       none  606554.00  6080126.00   \n",
       "1             F03-2                       none  619101.00  6089491.00   \n",
       "2             F03-4                       none  623255.98  6082586.87   \n",
       "3             F06-1                       none  607903.00  6077213.00   \n",
       "4  F02-01_welltrack                       none  606554.00  6080126.00   \n",
       "\n",
       "   ReplacementVelocity  GroundElevation  \n",
       "0               2000.0     1.000000e+30  \n",
       "1               2000.0     1.000000e+30  \n",
       "2               2000.0     1.000000e+30  \n",
       "3               2000.0     1.000000e+30  \n",
       "4               2000.0     1.000000e+30  "
      ],
      "text/html": "<div>\n<style scoped>\n    .dataframe tbody tr th:only-of-type {\n        vertical-align: middle;\n    }\n\n    .dataframe tbody tr th {\n        vertical-align: top;\n    }\n\n    .dataframe thead th {\n        text-align: right;\n    }\n</style>\n<table border=\"1\" class=\"dataframe\">\n  <thead>\n    <tr style=\"text-align: right;\">\n      <th></th>\n      <th>Name</th>\n      <th>UWID</th>\n      <th>State</th>\n      <th>County</th>\n      <th>WellType</th>\n      <th>X</th>\n      <th>Y</th>\n      <th>ReplacementVelocity</th>\n      <th>GroundElevation</th>\n    </tr>\n  </thead>\n  <tbody>\n    <tr>\n      <th>0</th>\n      <td>F02-1</td>\n      <td></td>\n      <td></td>\n      <td></td>\n      <td>none</td>\n      <td>606554.00</td>\n      <td>6080126.00</td>\n      <td>2000.0</td>\n      <td>1.000000e+30</td>\n    </tr>\n    <tr>\n      <th>1</th>\n      <td>F03-2</td>\n      <td></td>\n      <td></td>\n      <td></td>\n      <td>none</td>\n      <td>619101.00</td>\n      <td>6089491.00</td>\n      <td>2000.0</td>\n      <td>1.000000e+30</td>\n    </tr>\n    <tr>\n      <th>2</th>\n      <td>F03-4</td>\n      <td></td>\n      <td></td>\n      <td></td>\n      <td>none</td>\n      <td>623255.98</td>\n      <td>6082586.87</td>\n      <td>2000.0</td>\n      <td>1.000000e+30</td>\n    </tr>\n    <tr>\n      <th>3</th>\n      <td>F06-1</td>\n      <td></td>\n      <td></td>\n      <td></td>\n      <td>none</td>\n      <td>607903.00</td>\n      <td>6077213.00</td>\n      <td>2000.0</td>\n      <td>1.000000e+30</td>\n    </tr>\n    <tr>\n      <th>4</th>\n      <td>F02-01_welltrack</td>\n      <td></td>\n      <td></td>\n      <td></td>\n      <td>none</td>\n      <td>606554.00</td>\n      <td>6080126.00</td>\n      <td>2000.0</td>\n      <td>1.000000e+30</td>\n    </tr>\n  </tbody>\n</table>\n</div>"
     },
     "metadata": {},
     "execution_count": 15
    }
   ],
   "source": [
    "f3wells.info_df()"
   ]
  },
  {
   "cell_type": "markdown",
   "metadata": {},
   "source": [
    "If your environment includes GeoPandas there is another function of the same name suffixed by \"_gdf\" which returns a GeoDataFrame with the well surface coordinates as Point geometries. The crs of the GeoDataFrame is set to the EPSG code of the survey object."
   ]
  },
  {
   "cell_type": "markdown",
   "metadata": {},
   "source": [
    "Likewise well log information for each well is also available as a python dictionary or as a Pandas dataframe "
   ]
  },
  {
   "cell_type": "code",
   "execution_count": 16,
   "metadata": {},
   "outputs": [
    {
     "output_type": "execute_result",
     "data": {
      "text/plain": [
       "                                                 Name   Mnem  \\\n",
       "0                                               Sonic     DT   \n",
       "1                                           Gamma Ray     GR   \n",
       "2                                            Porosity    PHI   \n",
       "3                                         P-Impedance    IMP   \n",
       "4                                     P-Impedance_rel    IMP   \n",
       "5                                                  Vp    VEL   \n",
       "6                                              Vp_BLI    VEL   \n",
       "7                                              Vs_BLI    VEL   \n",
       "8                                         Density_BLI   RHOB   \n",
       "9   Litholog (10=sand 15=silt 20=silty shale 30=sh...  LITHO   \n",
       "10                                                GR2    OTH   \n",
       "11                                     Sonic_upscaled     DT   \n",
       "12                                    Sonic_resampled     DT   \n",
       "\n",
       "                     Uom                                  DahRange  \\\n",
       "0                  us/ft   (305.1000061035156, 1424.0999755859375)   \n",
       "1                    API  (50.099998474121094, 1499.8499755859375)   \n",
       "2               Fraction   (305.1000061035156, 1424.1700439453125)   \n",
       "3   Meter/second x Kg/m3  (262.04998779296875, 1499.8399658203125)   \n",
       "4   Meter/second x Kg/m3  (262.04998779296875, 1499.8399658203125)   \n",
       "5           Meter/second   (305.1000061035156, 1424.0999755859375)   \n",
       "6           Meter/second    (795.1500244140625, 1136.699951171875)   \n",
       "7           Meter/second   (795.1500244140625, 1149.4500732421875)   \n",
       "8                   g/cc   (795.1500244140625, 1131.9000244140625)   \n",
       "9                         (50.099998474121094, 1499.7244873046875)   \n",
       "10                                       (50.0, 1499.728759765625)   \n",
       "11                 us/ft                           (305.0, 1424.0)   \n",
       "12                 us/ft   (305.1000061035156, 1423.9500732421875)   \n",
       "\n",
       "                                    ValueRange  \n",
       "0     (112.20144653320312, 176.78977966308594)  \n",
       "1       (1.3392000198364258, 129.177001953125)  \n",
       "2   (0.25765201449394226, 0.40758100152015686)  \n",
       "3                       (2846140.0, 5978060.0)  \n",
       "4                        (-477863.0, 410655.0)  \n",
       "5      (1724.3699951171875, 2714.530029296875)  \n",
       "6        (2098.55712890625, 2567.929443359375)  \n",
       "7          (1009.1357421875, 1290.41943359375)  \n",
       "8       (2.120548963546753, 2.260430097579956)  \n",
       "9                                 (10.0, 30.0)  \n",
       "10                    (-20.0, 258.35400390625)  \n",
       "11                    (1.0, 168.8046417236328)  \n",
       "12    (112.20144653320312, 176.78977966308594)  "
      ],
      "text/html": "<div>\n<style scoped>\n    .dataframe tbody tr th:only-of-type {\n        vertical-align: middle;\n    }\n\n    .dataframe tbody tr th {\n        vertical-align: top;\n    }\n\n    .dataframe thead th {\n        text-align: right;\n    }\n</style>\n<table border=\"1\" class=\"dataframe\">\n  <thead>\n    <tr style=\"text-align: right;\">\n      <th></th>\n      <th>Name</th>\n      <th>Mnem</th>\n      <th>Uom</th>\n      <th>DahRange</th>\n      <th>ValueRange</th>\n    </tr>\n  </thead>\n  <tbody>\n    <tr>\n      <th>0</th>\n      <td>Sonic</td>\n      <td>DT</td>\n      <td>us/ft</td>\n      <td>(305.1000061035156, 1424.0999755859375)</td>\n      <td>(112.20144653320312, 176.78977966308594)</td>\n    </tr>\n    <tr>\n      <th>1</th>\n      <td>Gamma Ray</td>\n      <td>GR</td>\n      <td>API</td>\n      <td>(50.099998474121094, 1499.8499755859375)</td>\n      <td>(1.3392000198364258, 129.177001953125)</td>\n    </tr>\n    <tr>\n      <th>2</th>\n      <td>Porosity</td>\n      <td>PHI</td>\n      <td>Fraction</td>\n      <td>(305.1000061035156, 1424.1700439453125)</td>\n      <td>(0.25765201449394226, 0.40758100152015686)</td>\n    </tr>\n    <tr>\n      <th>3</th>\n      <td>P-Impedance</td>\n      <td>IMP</td>\n      <td>Meter/second x Kg/m3</td>\n      <td>(262.04998779296875, 1499.8399658203125)</td>\n      <td>(2846140.0, 5978060.0)</td>\n    </tr>\n    <tr>\n      <th>4</th>\n      <td>P-Impedance_rel</td>\n      <td>IMP</td>\n      <td>Meter/second x Kg/m3</td>\n      <td>(262.04998779296875, 1499.8399658203125)</td>\n      <td>(-477863.0, 410655.0)</td>\n    </tr>\n    <tr>\n      <th>5</th>\n      <td>Vp</td>\n      <td>VEL</td>\n      <td>Meter/second</td>\n      <td>(305.1000061035156, 1424.0999755859375)</td>\n      <td>(1724.3699951171875, 2714.530029296875)</td>\n    </tr>\n    <tr>\n      <th>6</th>\n      <td>Vp_BLI</td>\n      <td>VEL</td>\n      <td>Meter/second</td>\n      <td>(795.1500244140625, 1136.699951171875)</td>\n      <td>(2098.55712890625, 2567.929443359375)</td>\n    </tr>\n    <tr>\n      <th>7</th>\n      <td>Vs_BLI</td>\n      <td>VEL</td>\n      <td>Meter/second</td>\n      <td>(795.1500244140625, 1149.4500732421875)</td>\n      <td>(1009.1357421875, 1290.41943359375)</td>\n    </tr>\n    <tr>\n      <th>8</th>\n      <td>Density_BLI</td>\n      <td>RHOB</td>\n      <td>g/cc</td>\n      <td>(795.1500244140625, 1131.9000244140625)</td>\n      <td>(2.120548963546753, 2.260430097579956)</td>\n    </tr>\n    <tr>\n      <th>9</th>\n      <td>Litholog (10=sand 15=silt 20=silty shale 30=sh...</td>\n      <td>LITHO</td>\n      <td></td>\n      <td>(50.099998474121094, 1499.7244873046875)</td>\n      <td>(10.0, 30.0)</td>\n    </tr>\n    <tr>\n      <th>10</th>\n      <td>GR2</td>\n      <td>OTH</td>\n      <td></td>\n      <td>(50.0, 1499.728759765625)</td>\n      <td>(-20.0, 258.35400390625)</td>\n    </tr>\n    <tr>\n      <th>11</th>\n      <td>Sonic_upscaled</td>\n      <td>DT</td>\n      <td>us/ft</td>\n      <td>(305.0, 1424.0)</td>\n      <td>(1.0, 168.8046417236328)</td>\n    </tr>\n    <tr>\n      <th>12</th>\n      <td>Sonic_resampled</td>\n      <td>DT</td>\n      <td>us/ft</td>\n      <td>(305.1000061035156, 1423.9500732421875)</td>\n      <td>(112.20144653320312, 176.78977966308594)</td>\n    </tr>\n  </tbody>\n</table>\n</div>"
     },
     "metadata": {},
     "execution_count": 16
    }
   ],
   "source": [
    "f3wells.log_info_df('F02-1')"
   ]
  },
  {
   "cell_type": "code",
   "execution_count": 17,
   "metadata": {},
   "outputs": [
    {
     "output_type": "execute_result",
     "data": {
      "text/plain": [
       "   Name  Mnem   Uom                               DahRange  \\\n",
       "0  RHOB  RHOB  G/C3  (944.8800048828125, 4236.72021484375)   \n",
       "1    DT    DT  US/F   (365.760009765625, 4236.72021484375)   \n",
       "2    GR   OTH         (365.760009765625, 4236.72021484375)   \n",
       "\n",
       "                                 ValueRange  \n",
       "0     (2.001499891281128, 2.80430006980896)  \n",
       "1   (40.29840087890625, 185.70899963378906)  \n",
       "2  (12.510700225830078, 139.63800048828125)  "
      ],
      "text/html": "<div>\n<style scoped>\n    .dataframe tbody tr th:only-of-type {\n        vertical-align: middle;\n    }\n\n    .dataframe tbody tr th {\n        vertical-align: top;\n    }\n\n    .dataframe thead th {\n        text-align: right;\n    }\n</style>\n<table border=\"1\" class=\"dataframe\">\n  <thead>\n    <tr style=\"text-align: right;\">\n      <th></th>\n      <th>Name</th>\n      <th>Mnem</th>\n      <th>Uom</th>\n      <th>DahRange</th>\n      <th>ValueRange</th>\n    </tr>\n  </thead>\n  <tbody>\n    <tr>\n      <th>0</th>\n      <td>RHOB</td>\n      <td>RHOB</td>\n      <td>G/C3</td>\n      <td>(944.8800048828125, 4236.72021484375)</td>\n      <td>(2.001499891281128, 2.80430006980896)</td>\n    </tr>\n    <tr>\n      <th>1</th>\n      <td>DT</td>\n      <td>DT</td>\n      <td>US/F</td>\n      <td>(365.760009765625, 4236.72021484375)</td>\n      <td>(40.29840087890625, 185.70899963378906)</td>\n    </tr>\n    <tr>\n      <th>2</th>\n      <td>GR</td>\n      <td>OTH</td>\n      <td></td>\n      <td>(365.760009765625, 4236.72021484375)</td>\n      <td>(12.510700225830078, 139.63800048828125)</td>\n    </tr>\n  </tbody>\n</table>\n</div>"
     },
     "metadata": {},
     "execution_count": 17
    }
   ],
   "source": [
    "wmodpy.Wells(penobscot).log_info_df('L-30')"
   ]
  },
  {
   "cell_type": "markdown",
   "metadata": {},
   "source": [
    "And marker information for each well is also available as a python dictionary or Pandas dataframe depending on the function used."
   ]
  },
  {
   "cell_type": "code",
   "execution_count": 18,
   "metadata": {},
   "outputs": [
    {
     "output_type": "execute_result",
     "data": {
      "text/plain": [
       "            Name    Color           MD\n",
       "0     Seasurface  #dc3232    30.000000\n",
       "1          MFS11  #3232dc   479.739990\n",
       "2       FS11_new  #32c832   515.340027\n",
       "3          MFS10  #32c8c8   547.750000\n",
       "4           MFS9  #ffd200   547.750000\n",
       "5           MFS8  #dc00dc   547.750000\n",
       "6            FS8  #00ff00   568.969971\n",
       "7            FS7  #3232dc   583.969971\n",
       "8     Truncation  #aa55ff   662.539978\n",
       "9   Top Foresets  #ff0000   697.109985\n",
       "10           FS6  #ffaa00   856.080017\n",
       "11          MFS4  #0055ff   916.679993\n",
       "12           FS4  #32c832   946.500000\n",
       "13           FS3  #32c8c8  1024.390015\n",
       "14           FS2  #ffd200  1071.119995\n",
       "15          MFS2  #dc00dc  1111.130005\n",
       "16           FS1  #8c8250  1200.930054\n",
       "17          Test  #808080  1240.000000\n",
       "18           MMU  #ff0000  1246.000000"
      ],
      "text/html": "<div>\n<style scoped>\n    .dataframe tbody tr th:only-of-type {\n        vertical-align: middle;\n    }\n\n    .dataframe tbody tr th {\n        vertical-align: top;\n    }\n\n    .dataframe thead th {\n        text-align: right;\n    }\n</style>\n<table border=\"1\" class=\"dataframe\">\n  <thead>\n    <tr style=\"text-align: right;\">\n      <th></th>\n      <th>Name</th>\n      <th>Color</th>\n      <th>MD</th>\n    </tr>\n  </thead>\n  <tbody>\n    <tr>\n      <th>0</th>\n      <td>Seasurface</td>\n      <td>#dc3232</td>\n      <td>30.000000</td>\n    </tr>\n    <tr>\n      <th>1</th>\n      <td>MFS11</td>\n      <td>#3232dc</td>\n      <td>479.739990</td>\n    </tr>\n    <tr>\n      <th>2</th>\n      <td>FS11_new</td>\n      <td>#32c832</td>\n      <td>515.340027</td>\n    </tr>\n    <tr>\n      <th>3</th>\n      <td>MFS10</td>\n      <td>#32c8c8</td>\n      <td>547.750000</td>\n    </tr>\n    <tr>\n      <th>4</th>\n      <td>MFS9</td>\n      <td>#ffd200</td>\n      <td>547.750000</td>\n    </tr>\n    <tr>\n      <th>5</th>\n      <td>MFS8</td>\n      <td>#dc00dc</td>\n      <td>547.750000</td>\n    </tr>\n    <tr>\n      <th>6</th>\n      <td>FS8</td>\n      <td>#00ff00</td>\n      <td>568.969971</td>\n    </tr>\n    <tr>\n      <th>7</th>\n      <td>FS7</td>\n      <td>#3232dc</td>\n      <td>583.969971</td>\n    </tr>\n    <tr>\n      <th>8</th>\n      <td>Truncation</td>\n      <td>#aa55ff</td>\n      <td>662.539978</td>\n    </tr>\n    <tr>\n      <th>9</th>\n      <td>Top Foresets</td>\n      <td>#ff0000</td>\n      <td>697.109985</td>\n    </tr>\n    <tr>\n      <th>10</th>\n      <td>FS6</td>\n      <td>#ffaa00</td>\n      <td>856.080017</td>\n    </tr>\n    <tr>\n      <th>11</th>\n      <td>MFS4</td>\n      <td>#0055ff</td>\n      <td>916.679993</td>\n    </tr>\n    <tr>\n      <th>12</th>\n      <td>FS4</td>\n      <td>#32c832</td>\n      <td>946.500000</td>\n    </tr>\n    <tr>\n      <th>13</th>\n      <td>FS3</td>\n      <td>#32c8c8</td>\n      <td>1024.390015</td>\n    </tr>\n    <tr>\n      <th>14</th>\n      <td>FS2</td>\n      <td>#ffd200</td>\n      <td>1071.119995</td>\n    </tr>\n    <tr>\n      <th>15</th>\n      <td>MFS2</td>\n      <td>#dc00dc</td>\n      <td>1111.130005</td>\n    </tr>\n    <tr>\n      <th>16</th>\n      <td>FS1</td>\n      <td>#8c8250</td>\n      <td>1200.930054</td>\n    </tr>\n    <tr>\n      <th>17</th>\n      <td>Test</td>\n      <td>#808080</td>\n      <td>1240.000000</td>\n    </tr>\n    <tr>\n      <th>18</th>\n      <td>MMU</td>\n      <td>#ff0000</td>\n      <td>1246.000000</td>\n    </tr>\n  </tbody>\n</table>\n</div>"
     },
     "metadata": {},
     "execution_count": 18
    }
   ],
   "source": [
    "f3wells.markers_df('F03-4')"
   ]
  },
  {
   "cell_type": "markdown",
   "metadata": {},
   "source": [
    "Also the well track is available as either a python dictionary or Pandas dataframe depending on the function used."
   ]
  },
  {
   "cell_type": "code",
   "execution_count": 19,
   "metadata": {},
   "outputs": [
    {
     "output_type": "execute_result",
     "data": {
      "text/plain": [
       "        md        tvdss            x          y\n",
       "0      0.0   -34.099998  623256.0000  6082587.0\n",
       "1    100.0    65.900002  623256.0000  6082587.0\n",
       "2    270.0   235.870056  623255.8750  6082590.0\n",
       "3    380.0   345.859985  623255.8750  6082591.5\n",
       "4    475.0   440.859985  623255.8125  6082591.5\n",
       "5    655.0   620.859985  623255.8125  6082592.5\n",
       "6    751.0   716.849976  623255.8125  6082593.5\n",
       "7    856.0   821.840088  623255.7500  6082594.5\n",
       "8    952.0   917.840088  623255.7500  6082595.5\n",
       "9   1000.0   965.830078  623255.6875  6082596.5\n",
       "10  1106.0  1071.829956  623255.6875  6082597.5\n",
       "11  1201.0  1166.829956  623255.6250  6082598.0\n",
       "12  1297.0  1262.819946  623255.6250  6082599.0\n",
       "13  1400.0  1365.810059  623255.6250  6082600.0\n",
       "14  1737.0  1702.760010  623255.4375  6082606.0\n",
       "15  1941.0  1906.729980  623255.3125  6082609.5\n",
       "16  2048.0  2013.709961  623255.2500  6082611.5"
      ],
      "text/html": "<div>\n<style scoped>\n    .dataframe tbody tr th:only-of-type {\n        vertical-align: middle;\n    }\n\n    .dataframe tbody tr th {\n        vertical-align: top;\n    }\n\n    .dataframe thead th {\n        text-align: right;\n    }\n</style>\n<table border=\"1\" class=\"dataframe\">\n  <thead>\n    <tr style=\"text-align: right;\">\n      <th></th>\n      <th>md</th>\n      <th>tvdss</th>\n      <th>x</th>\n      <th>y</th>\n    </tr>\n  </thead>\n  <tbody>\n    <tr>\n      <th>0</th>\n      <td>0.0</td>\n      <td>-34.099998</td>\n      <td>623256.0000</td>\n      <td>6082587.0</td>\n    </tr>\n    <tr>\n      <th>1</th>\n      <td>100.0</td>\n      <td>65.900002</td>\n      <td>623256.0000</td>\n      <td>6082587.0</td>\n    </tr>\n    <tr>\n      <th>2</th>\n      <td>270.0</td>\n      <td>235.870056</td>\n      <td>623255.8750</td>\n      <td>6082590.0</td>\n    </tr>\n    <tr>\n      <th>3</th>\n      <td>380.0</td>\n      <td>345.859985</td>\n      <td>623255.8750</td>\n      <td>6082591.5</td>\n    </tr>\n    <tr>\n      <th>4</th>\n      <td>475.0</td>\n      <td>440.859985</td>\n      <td>623255.8125</td>\n      <td>6082591.5</td>\n    </tr>\n    <tr>\n      <th>5</th>\n      <td>655.0</td>\n      <td>620.859985</td>\n      <td>623255.8125</td>\n      <td>6082592.5</td>\n    </tr>\n    <tr>\n      <th>6</th>\n      <td>751.0</td>\n      <td>716.849976</td>\n      <td>623255.8125</td>\n      <td>6082593.5</td>\n    </tr>\n    <tr>\n      <th>7</th>\n      <td>856.0</td>\n      <td>821.840088</td>\n      <td>623255.7500</td>\n      <td>6082594.5</td>\n    </tr>\n    <tr>\n      <th>8</th>\n      <td>952.0</td>\n      <td>917.840088</td>\n      <td>623255.7500</td>\n      <td>6082595.5</td>\n    </tr>\n    <tr>\n      <th>9</th>\n      <td>1000.0</td>\n      <td>965.830078</td>\n      <td>623255.6875</td>\n      <td>6082596.5</td>\n    </tr>\n    <tr>\n      <th>10</th>\n      <td>1106.0</td>\n      <td>1071.829956</td>\n      <td>623255.6875</td>\n      <td>6082597.5</td>\n    </tr>\n    <tr>\n      <th>11</th>\n      <td>1201.0</td>\n      <td>1166.829956</td>\n      <td>623255.6250</td>\n      <td>6082598.0</td>\n    </tr>\n    <tr>\n      <th>12</th>\n      <td>1297.0</td>\n      <td>1262.819946</td>\n      <td>623255.6250</td>\n      <td>6082599.0</td>\n    </tr>\n    <tr>\n      <th>13</th>\n      <td>1400.0</td>\n      <td>1365.810059</td>\n      <td>623255.6250</td>\n      <td>6082600.0</td>\n    </tr>\n    <tr>\n      <th>14</th>\n      <td>1737.0</td>\n      <td>1702.760010</td>\n      <td>623255.4375</td>\n      <td>6082606.0</td>\n    </tr>\n    <tr>\n      <th>15</th>\n      <td>1941.0</td>\n      <td>1906.729980</td>\n      <td>623255.3125</td>\n      <td>6082609.5</td>\n    </tr>\n    <tr>\n      <th>16</th>\n      <td>2048.0</td>\n      <td>2013.709961</td>\n      <td>623255.2500</td>\n      <td>6082611.5</td>\n    </tr>\n  </tbody>\n</table>\n</div>"
     },
     "metadata": {},
     "execution_count": 19
    }
   ],
   "source": [
    "f3wells.track_df('F03-4')"
   ]
  },
  {
   "cell_type": "code",
   "execution_count": 20,
   "metadata": {},
   "outputs": [
    {
     "output_type": "execute_result",
     "data": {
      "text/plain": [
       "['Demo 0 --> FS4',\n",
       " 'Demo 1 --> MFS4',\n",
       " 'Demo 2 --> FS6',\n",
       " 'Demo 3  --> Top Foresets',\n",
       " 'Demo 4 --> Truncation',\n",
       " 'Demo 5 --> FS7',\n",
       " 'Demo 6 --> FS8',\n",
       " 'Demo 7 --> shallow',\n",
       " 'test',\n",
       " 'Trim_D0 --> FS4',\n",
       " 'Trim_D4 --> Truncation',\n",
       " 'Trim_D5 --> FS7',\n",
       " 'Trim_D6 --> FS8']"
      ]
     },
     "metadata": {},
     "execution_count": 20
    }
   ],
   "source": [
    "hor3d = wmodpy.Horizons3D(f3demo)\n",
    "hor3d.names()"
   ]
  },
  {
   "cell_type": "code",
   "execution_count": 21,
   "metadata": {},
   "outputs": [
    {
     "output_type": "execute_result",
     "data": {
      "text/plain": [
       "['2D Demo0 - FS4',\n",
       " '2D Demo1 - MFS4',\n",
       " '2D Demo4 - Truncation',\n",
       " '2D Demo6 - FS8',\n",
       " '2D Demo7 - FS11',\n",
       " 'SSIS-Grid-Base',\n",
       " 'SSIS-Grid-Top',\n",
       " 'SSIS-Grid1-MFS1',\n",
       " 'SSIS-Grid2-TopHST1',\n",
       " 'SSIS-Grid3-SB1',\n",
       " 'SSIS-Grid4-MRS1',\n",
       " 'SSIS-Grid5-TopHST2',\n",
       " 'SSIS-Grid6-SB2',\n",
       " 'SSIS-Grid7-MRS2']"
      ]
     },
     "metadata": {},
     "execution_count": 21
    }
   ],
   "source": [
    "wmodpy.Horizons2D(f3demo).names()"
   ]
  },
  {
   "cell_type": "code",
   "execution_count": null,
   "metadata": {},
   "outputs": [],
   "source": []
  }
 ],
 "metadata": {
  "kernelspec": {
   "name": "python379jvsc74a57bd0777d5ea9619744e7adf33ec76bd246d4cc64fed824fe226658ab4ec98e7095fd",
   "display_name": "Python 3.7.9 64-bit ('odtpy37': conda)"
  },
  "language_info": {
   "codemirror_mode": {
    "name": "ipython",
    "version": 3
   },
   "file_extension": ".py",
   "mimetype": "text/x-python",
   "name": "python",
   "nbconvert_exporter": "python",
   "pygments_lexer": "ipython3",
   "version": "3.7.9"
  },
  "nteract": {
   "version": "0.28.0"
  }
 },
 "nbformat": 4,
 "nbformat_minor": 4
}