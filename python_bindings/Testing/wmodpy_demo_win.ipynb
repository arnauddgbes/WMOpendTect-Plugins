{
 "cells": [
  {
   "cell_type": "markdown",
   "metadata": {},
   "source": [
    "# OpendTect Python Bindings"
   ]
  },
  {
   "cell_type": "markdown",
   "metadata": {},
   "source": [
    "Release 6.6.7 of the wmPlugins suite includes experimental Python bindings to OpendTect. There are a number of limitations to be aware of:\n",
    "-  Currently the bindings only provide access to information about Surveys and Wells\n",
    "-  The bindings have been built against Python 3.7 and may/may not work with other versions of Python\n",
    "-  The bindings can't be used with a Python IDE that depends on a different Qt version (5.15.1) to OpendTect. This rules out the spyder IDE in the OpendTect Python environments which use Qt 5.9.6\n",
    "-  Jupyter Lab or Notebooks, however, work really well \n",
    "\n",
    "## Installation\n",
    "The recommended procedure for installation is to use the OpendTect installation manager to install the wmPlugins. This will install the library containing the bindings in the OpendTect bin/\"Platform\"/Release folder where \"Platform\" will either be win64 for Windows or lux64 for Linux.\n",
    "    \n",
    "You also need a Python environment with at least the following packages: \n",
    "-  Pandas\n",
    "-  Shapely and Geopandas\n",
    "    \n",
    "The OpendTect Python environments don't include Shapely or Geopandas so your options are to use conda to install those dependencies or set up your own custom Python environment. \n",
    "    \n",
    "## Setting the PYTHONPATH and Python Environment\n",
    "The folder containing the bindings library must be on the PYTHONPATH to be found by an import statement in a Python script. You can use the OpendTect Python Settings dialog (accessible from the Utilities| Installation|Python Settings application menu) and add the location of the OpendTect executable files to the Custom Module Path. This dialog is also where you can select a custom Python environment to use and also add an icon to the OpendTect toolbar to start your chosen IDE from the specified Custom Python environment with the custom module path added to the PYTHONPATH.\n",
    "\n",
    "![](images/python_settings.jpg)\n",
    "    \n",
    "Alternatively, the PYTHONPATH can be modified in the script or a notebook cell before the actual import."
   ]
  },
  {
   "cell_type": "markdown",
   "metadata": {
    "jupyter": {
     "outputs_hidden": true,
     "source_hidden": false
    },
    "nteract": {
     "transient": {
      "deleting": false
     }
    }
   },
   "source": [
    "import sys\n",
    "sys.path.insert(0,r'C:\\Program Files\\OpendTect\\6.6.0\\bin\\win64\\Release')"
   ]
  },
  {
   "cell_type": "markdown",
   "metadata": {},
   "source": [
    "## wmodpy Module\n",
    "The module contains a function (get_surveys)that lists the OpendTect surveys in a user supplied base data folder and classes to access:\n",
    "-  Survey information (Survey class)\n",
    "-  Well data (Wells class)\n",
    "\n",
    "If you are working in a Jupyter notebook or Python command shell you can use the help() function to get more information about a class or function:"
   ]
  },
  {
   "cell_type": "code",
   "execution_count": 5,
   "metadata": {},
   "outputs": [
    {
     "name": "stdout",
     "output_type": "stream",
     "text": [
      "Help on built-in function get_surveys in module wmodpy:\n",
      "\n",
      "get_surveys(...) method of builtins.PyCapsule instance\n",
      "    get_surveys(survey_data_root: str) -> list\n",
      "    \n",
      "    Return list of survey names in given survey data root\n",
      "\n"
     ]
    }
   ],
   "source": [
    "import wmodpy\n",
    "help(wmodpy.get_surveys)"
   ]
  },
  {
   "cell_type": "markdown",
   "metadata": {},
   "source": [
    "### wmodpy.get_surveys()\n",
    "Give it the location of a base data folder and you get back a python list of the contained projects/surveys."
   ]
  },
  {
   "cell_type": "code",
   "execution_count": 16,
   "metadata": {},
   "outputs": [
    {
     "data": {
      "text/plain": [
       "['13CP06_Dundinna', 'Cooper2D']"
      ]
     },
     "execution_count": 16,
     "metadata": {},
     "output_type": "execute_result"
    }
   ],
   "source": [
    "wmodpy.get_surveys('Y:\\CooperBasin\\ODData')\n"
   ]
  },
  {
   "cell_type": "markdown",
   "metadata": {},
   "source": [
    "### wmodpy.Survey Class\n",
    "This class provides some basic information about an OpendTect project/survey. Creating a Survey object requires both the base data folder location and the project/survey name. The other data specific classes require a Survey object for context."
   ]
  },
  {
   "cell_type": "code",
   "execution_count": 15,
   "metadata": {},
   "outputs": [
    {
     "data": {
      "text/plain": [
       "'F3 Demo 2020'"
      ]
     },
     "execution_count": 15,
     "metadata": {},
     "output_type": "execute_result"
    }
   ],
   "source": [
    "f3demo = wmodpy.Survey('Y:\\ODData', 'F3_Demo_2020')\n",
    "f3demo.name()"
   ]
  },
  {
   "cell_type": "code",
   "execution_count": 17,
   "metadata": {},
   "outputs": [
    {
     "data": {
      "text/plain": [
       "True"
      ]
     },
     "execution_count": 17,
     "metadata": {},
     "output_type": "execute_result"
    }
   ],
   "source": [
    "f3demo.has3d()"
   ]
  },
  {
   "cell_type": "code",
   "execution_count": 18,
   "metadata": {},
   "outputs": [
    {
     "data": {
      "text/plain": [
       "True"
      ]
     },
     "execution_count": 18,
     "metadata": {},
     "output_type": "execute_result"
    }
   ],
   "source": [
    "f3demo.has2d()"
   ]
  },
  {
   "cell_type": "code",
   "execution_count": 19,
   "metadata": {},
   "outputs": [
    {
     "data": {
      "text/plain": [
       "'EPSG:23031'"
      ]
     },
     "execution_count": 19,
     "metadata": {},
     "output_type": "execute_result"
    }
   ],
   "source": [
    "f3demo.epsg() "
   ]
  },
  {
   "cell_type": "markdown",
   "metadata": {},
   "source": [
    "It's easy to work with multiple projects/surveys at the same time:"
   ]
  },
  {
   "cell_type": "code",
   "execution_count": 20,
   "metadata": {},
   "outputs": [
    {
     "data": {
      "text/plain": [
       "'EPSG:2294'"
      ]
     },
     "execution_count": 20,
     "metadata": {},
     "output_type": "execute_result"
    }
   ],
   "source": [
    "penobscot = wmodpy.Survey('Y:\\ODData', 'Penobscot')\n",
    "penobscot.epsg()"
   ]
  },
  {
   "cell_type": "code",
   "execution_count": 21,
   "metadata": {},
   "outputs": [
    {
     "data": {
      "text/plain": [
       "'EPSG:23031'"
      ]
     },
     "execution_count": 21,
     "metadata": {},
     "output_type": "execute_result"
    }
   ],
   "source": [
    "f3demo.epsg()"
   ]
  },
  {
   "cell_type": "markdown",
   "metadata": {},
   "source": [
    "### wmodpy.Wells Class\n",
    "This class provides access to well data within an OpendTect project/survey. The class constructor requires a Survey object.\n",
    "The get_well_names() method provides a list of well names in the project/survey."
   ]
  },
  {
   "cell_type": "code",
   "execution_count": 22,
   "metadata": {},
   "outputs": [
    {
     "data": {
      "text/plain": [
       "['F02-1', 'F03-2', 'F03-4', 'F06-1']"
      ]
     },
     "execution_count": 22,
     "metadata": {},
     "output_type": "execute_result"
    }
   ],
   "source": [
    "f3wells = wmodpy.Wells(f3demo)\n",
    "f3wells.get_well_names()"
   ]
  },
  {
   "cell_type": "markdown",
   "metadata": {},
   "source": [
    "General well information is available as a python dictionary. "
   ]
  },
  {
   "cell_type": "code",
   "execution_count": 23,
   "metadata": {},
   "outputs": [
    {
     "data": {
      "text/plain": [
       "{'Name': ['F02-1', 'F03-2', 'F03-4', 'F06-1'],\n",
       " 'UWID': ['', '', '', ''],\n",
       " 'State': ['', '', '', ''],\n",
       " 'County': ['', '', '', ''],\n",
       " 'WellType': ['none', 'none', 'none', 'none'],\n",
       " 'X': [606554.0, 619101.0, 623255.98, 607903.0],\n",
       " 'Y': [6080126.0, 6089491.0, 6082586.87, 6077213.0],\n",
       " 'ReplacementVelocity': [2000.0, 2000.0, 2000.0, 2000.0],\n",
       " 'GroundElevation': [1.0000000150474662e+30,\n",
       "  1.0000000150474662e+30,\n",
       "  1.0000000150474662e+30,\n",
       "  1.0000000150474662e+30]}"
      ]
     },
     "execution_count": 23,
     "metadata": {},
     "output_type": "execute_result"
    }
   ],
   "source": [
    "f3wells.get_well_info()"
   ]
  },
  {
   "cell_type": "code",
   "execution_count": 24,
   "metadata": {},
   "outputs": [
    {
     "data": {
      "text/plain": [
       "['L-30', 'B-41']"
      ]
     },
     "execution_count": 24,
     "metadata": {},
     "output_type": "execute_result"
    }
   ],
   "source": [
    "wmodpy.Wells(penobscot).get_well_names()"
   ]
  },
  {
   "cell_type": "code",
   "execution_count": 25,
   "metadata": {},
   "outputs": [
    {
     "data": {
      "text/plain": [
       "{'Name': ['L-30', 'B-41'],\n",
       " 'UWID': ['', ''],\n",
       " 'State': ['', ''],\n",
       " 'County': ['', ''],\n",
       " 'WellType': ['none', 'none'],\n",
       " 'X': [734338.8571, 731133.461],\n",
       " 'Y': [4893837.87, 4894307.877],\n",
       " 'ReplacementVelocity': [2000.0, 2000.0],\n",
       " 'GroundElevation': [1.0000000150474662e+30, 1.0000000150474662e+30]}"
      ]
     },
     "execution_count": 25,
     "metadata": {},
     "output_type": "execute_result"
    }
   ],
   "source": [
    "wmodpy.Wells(penobscot).get_well_info()"
   ]
  },
  {
   "cell_type": "markdown",
   "metadata": {},
   "source": [
    "If your Python environment includes Pandas there is a function with the same name suffixed by \"_df\" which will return the same information directly in a Pandas DataFrame"
   ]
  },
  {
   "cell_type": "code",
   "execution_count": 27,
   "metadata": {},
   "outputs": [
    {
     "data": {
      "text/html": [
       "<div>\n",
       "<style scoped>\n",
       "    .dataframe tbody tr th:only-of-type {\n",
       "        vertical-align: middle;\n",
       "    }\n",
       "\n",
       "    .dataframe tbody tr th {\n",
       "        vertical-align: top;\n",
       "    }\n",
       "\n",
       "    .dataframe thead th {\n",
       "        text-align: right;\n",
       "    }\n",
       "</style>\n",
       "<table border=\"1\" class=\"dataframe\">\n",
       "  <thead>\n",
       "    <tr style=\"text-align: right;\">\n",
       "      <th></th>\n",
       "      <th>Name</th>\n",
       "      <th>UWID</th>\n",
       "      <th>State</th>\n",
       "      <th>County</th>\n",
       "      <th>WellType</th>\n",
       "      <th>X</th>\n",
       "      <th>Y</th>\n",
       "      <th>ReplacementVelocity</th>\n",
       "      <th>GroundElevation</th>\n",
       "    </tr>\n",
       "  </thead>\n",
       "  <tbody>\n",
       "    <tr>\n",
       "      <th>0</th>\n",
       "      <td>F02-1</td>\n",
       "      <td></td>\n",
       "      <td></td>\n",
       "      <td></td>\n",
       "      <td>none</td>\n",
       "      <td>606554.00</td>\n",
       "      <td>6080126.00</td>\n",
       "      <td>2000.0</td>\n",
       "      <td>1.000000e+30</td>\n",
       "    </tr>\n",
       "    <tr>\n",
       "      <th>1</th>\n",
       "      <td>F03-2</td>\n",
       "      <td></td>\n",
       "      <td></td>\n",
       "      <td></td>\n",
       "      <td>none</td>\n",
       "      <td>619101.00</td>\n",
       "      <td>6089491.00</td>\n",
       "      <td>2000.0</td>\n",
       "      <td>1.000000e+30</td>\n",
       "    </tr>\n",
       "    <tr>\n",
       "      <th>2</th>\n",
       "      <td>F03-4</td>\n",
       "      <td></td>\n",
       "      <td></td>\n",
       "      <td></td>\n",
       "      <td>none</td>\n",
       "      <td>623255.98</td>\n",
       "      <td>6082586.87</td>\n",
       "      <td>2000.0</td>\n",
       "      <td>1.000000e+30</td>\n",
       "    </tr>\n",
       "    <tr>\n",
       "      <th>3</th>\n",
       "      <td>F06-1</td>\n",
       "      <td></td>\n",
       "      <td></td>\n",
       "      <td></td>\n",
       "      <td>none</td>\n",
       "      <td>607903.00</td>\n",
       "      <td>6077213.00</td>\n",
       "      <td>2000.0</td>\n",
       "      <td>1.000000e+30</td>\n",
       "    </tr>\n",
       "  </tbody>\n",
       "</table>\n",
       "</div>"
      ],
      "text/plain": [
       "    Name UWID State County WellType          X           Y  \\\n",
       "0  F02-1                       none  606554.00  6080126.00   \n",
       "1  F03-2                       none  619101.00  6089491.00   \n",
       "2  F03-4                       none  623255.98  6082586.87   \n",
       "3  F06-1                       none  607903.00  6077213.00   \n",
       "\n",
       "   ReplacementVelocity  GroundElevation  \n",
       "0               2000.0     1.000000e+30  \n",
       "1               2000.0     1.000000e+30  \n",
       "2               2000.0     1.000000e+30  \n",
       "3               2000.0     1.000000e+30  "
      ]
     },
     "execution_count": 27,
     "metadata": {},
     "output_type": "execute_result"
    }
   ],
   "source": [
    "f3wells.get_well_info_df()"
   ]
  },
  {
   "cell_type": "markdown",
   "metadata": {},
   "source": [
    "If your environment includes GeoPandas there is another function of the same name suffixed by \"_gdf\" which returns a GeoDataFrame with the well surface coordinates as Point geometries. The crs of the GeoDataFrame is set to the EPSG code of the survey object."
   ]
  },
  {
   "cell_type": "code",
   "execution_count": 31,
   "metadata": {},
   "outputs": [
    {
     "data": {
      "text/html": [
       "<div>\n",
       "<style scoped>\n",
       "    .dataframe tbody tr th:only-of-type {\n",
       "        vertical-align: middle;\n",
       "    }\n",
       "\n",
       "    .dataframe tbody tr th {\n",
       "        vertical-align: top;\n",
       "    }\n",
       "\n",
       "    .dataframe thead th {\n",
       "        text-align: right;\n",
       "    }\n",
       "</style>\n",
       "<table border=\"1\" class=\"dataframe\">\n",
       "  <thead>\n",
       "    <tr style=\"text-align: right;\">\n",
       "      <th></th>\n",
       "      <th>Name</th>\n",
       "      <th>UWID</th>\n",
       "      <th>State</th>\n",
       "      <th>County</th>\n",
       "      <th>WellType</th>\n",
       "      <th>X</th>\n",
       "      <th>Y</th>\n",
       "      <th>ReplacementVelocity</th>\n",
       "      <th>GroundElevation</th>\n",
       "      <th>geometry</th>\n",
       "    </tr>\n",
       "  </thead>\n",
       "  <tbody>\n",
       "    <tr>\n",
       "      <th>0</th>\n",
       "      <td>F02-1</td>\n",
       "      <td></td>\n",
       "      <td></td>\n",
       "      <td></td>\n",
       "      <td>none</td>\n",
       "      <td>606554.00</td>\n",
       "      <td>6080126.00</td>\n",
       "      <td>2000.0</td>\n",
       "      <td>1.000000e+30</td>\n",
       "      <td>POINT (606554.000 6080126.000)</td>\n",
       "    </tr>\n",
       "    <tr>\n",
       "      <th>1</th>\n",
       "      <td>F03-2</td>\n",
       "      <td></td>\n",
       "      <td></td>\n",
       "      <td></td>\n",
       "      <td>none</td>\n",
       "      <td>619101.00</td>\n",
       "      <td>6089491.00</td>\n",
       "      <td>2000.0</td>\n",
       "      <td>1.000000e+30</td>\n",
       "      <td>POINT (619101.000 6089491.000)</td>\n",
       "    </tr>\n",
       "    <tr>\n",
       "      <th>2</th>\n",
       "      <td>F03-4</td>\n",
       "      <td></td>\n",
       "      <td></td>\n",
       "      <td></td>\n",
       "      <td>none</td>\n",
       "      <td>623255.98</td>\n",
       "      <td>6082586.87</td>\n",
       "      <td>2000.0</td>\n",
       "      <td>1.000000e+30</td>\n",
       "      <td>POINT (623255.980 6082586.870)</td>\n",
       "    </tr>\n",
       "    <tr>\n",
       "      <th>3</th>\n",
       "      <td>F06-1</td>\n",
       "      <td></td>\n",
       "      <td></td>\n",
       "      <td></td>\n",
       "      <td>none</td>\n",
       "      <td>607903.00</td>\n",
       "      <td>6077213.00</td>\n",
       "      <td>2000.0</td>\n",
       "      <td>1.000000e+30</td>\n",
       "      <td>POINT (607903.000 6077213.000)</td>\n",
       "    </tr>\n",
       "  </tbody>\n",
       "</table>\n",
       "</div>"
      ],
      "text/plain": [
       "    Name UWID State County WellType          X           Y  \\\n",
       "0  F02-1                       none  606554.00  6080126.00   \n",
       "1  F03-2                       none  619101.00  6089491.00   \n",
       "2  F03-4                       none  623255.98  6082586.87   \n",
       "3  F06-1                       none  607903.00  6077213.00   \n",
       "\n",
       "   ReplacementVelocity  GroundElevation                        geometry  \n",
       "0               2000.0     1.000000e+30  POINT (606554.000 6080126.000)  \n",
       "1               2000.0     1.000000e+30  POINT (619101.000 6089491.000)  \n",
       "2               2000.0     1.000000e+30  POINT (623255.980 6082586.870)  \n",
       "3               2000.0     1.000000e+30  POINT (607903.000 6077213.000)  "
      ]
     },
     "execution_count": 31,
     "metadata": {},
     "output_type": "execute_result"
    }
   ],
   "source": [
    "f3wells.get_well_info_gdf()"
   ]
  },
  {
   "cell_type": "markdown",
   "metadata": {},
   "source": [
    "Likewise well log information for each well is also available as a python dictionary or as a Pandas dataframe "
   ]
  },
  {
   "cell_type": "code",
   "execution_count": 28,
   "metadata": {},
   "outputs": [
    {
     "data": {
      "text/html": [
       "<div>\n",
       "<style scoped>\n",
       "    .dataframe tbody tr th:only-of-type {\n",
       "        vertical-align: middle;\n",
       "    }\n",
       "\n",
       "    .dataframe tbody tr th {\n",
       "        vertical-align: top;\n",
       "    }\n",
       "\n",
       "    .dataframe thead th {\n",
       "        text-align: right;\n",
       "    }\n",
       "</style>\n",
       "<table border=\"1\" class=\"dataframe\">\n",
       "  <thead>\n",
       "    <tr style=\"text-align: right;\">\n",
       "      <th></th>\n",
       "      <th>Name</th>\n",
       "      <th>Mnem</th>\n",
       "      <th>Uom</th>\n",
       "      <th>DahRange</th>\n",
       "      <th>ValueRange</th>\n",
       "    </tr>\n",
       "  </thead>\n",
       "  <tbody>\n",
       "    <tr>\n",
       "      <th>0</th>\n",
       "      <td>Density</td>\n",
       "      <td>RHOB</td>\n",
       "      <td>g/cc</td>\n",
       "      <td>(305.1000061035156, 1424.1700439453125)</td>\n",
       "      <td>(1.9978599548339844, 2.237799882888794)</td>\n",
       "    </tr>\n",
       "    <tr>\n",
       "      <th>1</th>\n",
       "      <td>Sonic</td>\n",
       "      <td>DT</td>\n",
       "      <td>us/ft</td>\n",
       "      <td>(305.1000061035156, 1424.0999755859375)</td>\n",
       "      <td>(112.20144653320312, 176.78977966308594)</td>\n",
       "    </tr>\n",
       "    <tr>\n",
       "      <th>2</th>\n",
       "      <td>Gamma Ray</td>\n",
       "      <td>GR</td>\n",
       "      <td>API</td>\n",
       "      <td>(50.099998474121094, 1499.8499755859375)</td>\n",
       "      <td>(1.3392000198364258, 129.177001953125)</td>\n",
       "    </tr>\n",
       "    <tr>\n",
       "      <th>3</th>\n",
       "      <td>Porosity</td>\n",
       "      <td>PHI</td>\n",
       "      <td>Fraction</td>\n",
       "      <td>(305.1000061035156, 1424.1700439453125)</td>\n",
       "      <td>(0.25765201449394226, 0.40758100152015686)</td>\n",
       "    </tr>\n",
       "    <tr>\n",
       "      <th>4</th>\n",
       "      <td>P-Impedance</td>\n",
       "      <td>IMP</td>\n",
       "      <td>Meter/second x Kg/m3</td>\n",
       "      <td>(262.04998779296875, 1499.8399658203125)</td>\n",
       "      <td>(2846140.0, 5978060.0)</td>\n",
       "    </tr>\n",
       "    <tr>\n",
       "      <th>5</th>\n",
       "      <td>P-Impedance_rel</td>\n",
       "      <td>IMP</td>\n",
       "      <td>Meter/second x Kg/m3</td>\n",
       "      <td>(262.04998779296875, 1499.8399658203125)</td>\n",
       "      <td>(-477863.0, 410655.0)</td>\n",
       "    </tr>\n",
       "    <tr>\n",
       "      <th>6</th>\n",
       "      <td>Vp</td>\n",
       "      <td>VEL</td>\n",
       "      <td>Meter/second</td>\n",
       "      <td>(305.1000061035156, 1424.0999755859375)</td>\n",
       "      <td>(1724.3699951171875, 2714.530029296875)</td>\n",
       "    </tr>\n",
       "    <tr>\n",
       "      <th>7</th>\n",
       "      <td>Vp_BLI</td>\n",
       "      <td>VEL</td>\n",
       "      <td>Meter/second</td>\n",
       "      <td>(795.1500244140625, 1136.699951171875)</td>\n",
       "      <td>(2098.55712890625, 2567.929443359375)</td>\n",
       "    </tr>\n",
       "    <tr>\n",
       "      <th>8</th>\n",
       "      <td>Vs_BLI</td>\n",
       "      <td>VEL</td>\n",
       "      <td>Meter/second</td>\n",
       "      <td>(795.1500244140625, 1149.4500732421875)</td>\n",
       "      <td>(1009.1357421875, 1290.41943359375)</td>\n",
       "    </tr>\n",
       "    <tr>\n",
       "      <th>9</th>\n",
       "      <td>Density_BLI</td>\n",
       "      <td>RHOB</td>\n",
       "      <td>g/cc</td>\n",
       "      <td>(795.1500244140625, 1131.9000244140625)</td>\n",
       "      <td>(2.120549201965332, 2.260430335998535)</td>\n",
       "    </tr>\n",
       "    <tr>\n",
       "      <th>10</th>\n",
       "      <td>Litholog (10=sand 15=silt 20=silty shale 30=sh...</td>\n",
       "      <td>OTH</td>\n",
       "      <td></td>\n",
       "      <td>(50.099998474121094, 1499.7244873046875)</td>\n",
       "      <td>(10.0, 30.0)</td>\n",
       "    </tr>\n",
       "  </tbody>\n",
       "</table>\n",
       "</div>"
      ],
      "text/plain": [
       "                                                 Name  Mnem  \\\n",
       "0                                             Density  RHOB   \n",
       "1                                               Sonic    DT   \n",
       "2                                           Gamma Ray    GR   \n",
       "3                                            Porosity   PHI   \n",
       "4                                         P-Impedance   IMP   \n",
       "5                                     P-Impedance_rel   IMP   \n",
       "6                                                  Vp   VEL   \n",
       "7                                              Vp_BLI   VEL   \n",
       "8                                              Vs_BLI   VEL   \n",
       "9                                         Density_BLI  RHOB   \n",
       "10  Litholog (10=sand 15=silt 20=silty shale 30=sh...   OTH   \n",
       "\n",
       "                     Uom                                  DahRange  \\\n",
       "0                   g/cc   (305.1000061035156, 1424.1700439453125)   \n",
       "1                  us/ft   (305.1000061035156, 1424.0999755859375)   \n",
       "2                    API  (50.099998474121094, 1499.8499755859375)   \n",
       "3               Fraction   (305.1000061035156, 1424.1700439453125)   \n",
       "4   Meter/second x Kg/m3  (262.04998779296875, 1499.8399658203125)   \n",
       "5   Meter/second x Kg/m3  (262.04998779296875, 1499.8399658203125)   \n",
       "6           Meter/second   (305.1000061035156, 1424.0999755859375)   \n",
       "7           Meter/second    (795.1500244140625, 1136.699951171875)   \n",
       "8           Meter/second   (795.1500244140625, 1149.4500732421875)   \n",
       "9                   g/cc   (795.1500244140625, 1131.9000244140625)   \n",
       "10                        (50.099998474121094, 1499.7244873046875)   \n",
       "\n",
       "                                    ValueRange  \n",
       "0      (1.9978599548339844, 2.237799882888794)  \n",
       "1     (112.20144653320312, 176.78977966308594)  \n",
       "2       (1.3392000198364258, 129.177001953125)  \n",
       "3   (0.25765201449394226, 0.40758100152015686)  \n",
       "4                       (2846140.0, 5978060.0)  \n",
       "5                        (-477863.0, 410655.0)  \n",
       "6      (1724.3699951171875, 2714.530029296875)  \n",
       "7        (2098.55712890625, 2567.929443359375)  \n",
       "8          (1009.1357421875, 1290.41943359375)  \n",
       "9       (2.120549201965332, 2.260430335998535)  \n",
       "10                                (10.0, 30.0)  "
      ]
     },
     "execution_count": 28,
     "metadata": {},
     "output_type": "execute_result"
    }
   ],
   "source": [
    "f3wells.get_well_log_info_df('F02-1')"
   ]
  },
  {
   "cell_type": "markdown",
   "metadata": {},
   "source": [
    "And marker information for each well is also available as a python dictionary or Pandas dataframe depending on the function used."
   ]
  },
  {
   "cell_type": "code",
   "execution_count": 29,
   "metadata": {},
   "outputs": [
    {
     "data": {
      "text/html": [
       "<div>\n",
       "<style scoped>\n",
       "    .dataframe tbody tr th:only-of-type {\n",
       "        vertical-align: middle;\n",
       "    }\n",
       "\n",
       "    .dataframe tbody tr th {\n",
       "        vertical-align: top;\n",
       "    }\n",
       "\n",
       "    .dataframe thead th {\n",
       "        text-align: right;\n",
       "    }\n",
       "</style>\n",
       "<table border=\"1\" class=\"dataframe\">\n",
       "  <thead>\n",
       "    <tr style=\"text-align: right;\">\n",
       "      <th></th>\n",
       "      <th>Name</th>\n",
       "      <th>Color</th>\n",
       "      <th>MD</th>\n",
       "    </tr>\n",
       "  </thead>\n",
       "  <tbody>\n",
       "    <tr>\n",
       "      <th>0</th>\n",
       "      <td>Seasurface</td>\n",
       "      <td>#dc3232</td>\n",
       "      <td>30.000000</td>\n",
       "    </tr>\n",
       "    <tr>\n",
       "      <th>1</th>\n",
       "      <td>MFS11</td>\n",
       "      <td>#3232dc</td>\n",
       "      <td>479.739990</td>\n",
       "    </tr>\n",
       "    <tr>\n",
       "      <th>2</th>\n",
       "      <td>FS11</td>\n",
       "      <td>#32c832</td>\n",
       "      <td>515.341919</td>\n",
       "    </tr>\n",
       "    <tr>\n",
       "      <th>3</th>\n",
       "      <td>MFS10</td>\n",
       "      <td>#32c8c8</td>\n",
       "      <td>547.750000</td>\n",
       "    </tr>\n",
       "    <tr>\n",
       "      <th>4</th>\n",
       "      <td>MFS9</td>\n",
       "      <td>#ffd200</td>\n",
       "      <td>547.750000</td>\n",
       "    </tr>\n",
       "    <tr>\n",
       "      <th>5</th>\n",
       "      <td>MFS8</td>\n",
       "      <td>#dc00dc</td>\n",
       "      <td>547.750000</td>\n",
       "    </tr>\n",
       "    <tr>\n",
       "      <th>6</th>\n",
       "      <td>FS8</td>\n",
       "      <td>#00ff00</td>\n",
       "      <td>568.973572</td>\n",
       "    </tr>\n",
       "    <tr>\n",
       "      <th>7</th>\n",
       "      <td>FS7</td>\n",
       "      <td>#3232dc</td>\n",
       "      <td>583.972595</td>\n",
       "    </tr>\n",
       "    <tr>\n",
       "      <th>8</th>\n",
       "      <td>Truncation</td>\n",
       "      <td>#aa55ff</td>\n",
       "      <td>662.539917</td>\n",
       "    </tr>\n",
       "    <tr>\n",
       "      <th>9</th>\n",
       "      <td>Top Foresets</td>\n",
       "      <td>#ff0000</td>\n",
       "      <td>697.109985</td>\n",
       "    </tr>\n",
       "    <tr>\n",
       "      <th>10</th>\n",
       "      <td>FS6</td>\n",
       "      <td>#ffaa00</td>\n",
       "      <td>856.080017</td>\n",
       "    </tr>\n",
       "    <tr>\n",
       "      <th>11</th>\n",
       "      <td>MFS4</td>\n",
       "      <td>#0055ff</td>\n",
       "      <td>916.680725</td>\n",
       "    </tr>\n",
       "    <tr>\n",
       "      <th>12</th>\n",
       "      <td>FS4</td>\n",
       "      <td>#32c832</td>\n",
       "      <td>946.500000</td>\n",
       "    </tr>\n",
       "    <tr>\n",
       "      <th>13</th>\n",
       "      <td>FS3</td>\n",
       "      <td>#32c8c8</td>\n",
       "      <td>1024.390015</td>\n",
       "    </tr>\n",
       "    <tr>\n",
       "      <th>14</th>\n",
       "      <td>FS2</td>\n",
       "      <td>#ffd200</td>\n",
       "      <td>1071.119995</td>\n",
       "    </tr>\n",
       "    <tr>\n",
       "      <th>15</th>\n",
       "      <td>MFS2</td>\n",
       "      <td>#dc00dc</td>\n",
       "      <td>1111.130005</td>\n",
       "    </tr>\n",
       "    <tr>\n",
       "      <th>16</th>\n",
       "      <td>FS1</td>\n",
       "      <td>#8c8250</td>\n",
       "      <td>1200.930054</td>\n",
       "    </tr>\n",
       "    <tr>\n",
       "      <th>17</th>\n",
       "      <td>MMU</td>\n",
       "      <td>#ff0000</td>\n",
       "      <td>1246.000000</td>\n",
       "    </tr>\n",
       "  </tbody>\n",
       "</table>\n",
       "</div>"
      ],
      "text/plain": [
       "            Name    Color           MD\n",
       "0     Seasurface  #dc3232    30.000000\n",
       "1          MFS11  #3232dc   479.739990\n",
       "2           FS11  #32c832   515.341919\n",
       "3          MFS10  #32c8c8   547.750000\n",
       "4           MFS9  #ffd200   547.750000\n",
       "5           MFS8  #dc00dc   547.750000\n",
       "6            FS8  #00ff00   568.973572\n",
       "7            FS7  #3232dc   583.972595\n",
       "8     Truncation  #aa55ff   662.539917\n",
       "9   Top Foresets  #ff0000   697.109985\n",
       "10           FS6  #ffaa00   856.080017\n",
       "11          MFS4  #0055ff   916.680725\n",
       "12           FS4  #32c832   946.500000\n",
       "13           FS3  #32c8c8  1024.390015\n",
       "14           FS2  #ffd200  1071.119995\n",
       "15          MFS2  #dc00dc  1111.130005\n",
       "16           FS1  #8c8250  1200.930054\n",
       "17           MMU  #ff0000  1246.000000"
      ]
     },
     "execution_count": 29,
     "metadata": {},
     "output_type": "execute_result"
    }
   ],
   "source": [
    "f3wells.get_markers_df('F03-4')"
   ]
  },
  {
   "cell_type": "markdown",
   "metadata": {},
   "source": [
    "As is the well track."
   ]
  },
  {
   "cell_type": "code",
   "execution_count": 30,
   "metadata": {},
   "outputs": [
    {
     "data": {
      "text/html": [
       "<div>\n",
       "<style scoped>\n",
       "    .dataframe tbody tr th:only-of-type {\n",
       "        vertical-align: middle;\n",
       "    }\n",
       "\n",
       "    .dataframe tbody tr th {\n",
       "        vertical-align: top;\n",
       "    }\n",
       "\n",
       "    .dataframe thead th {\n",
       "        text-align: right;\n",
       "    }\n",
       "</style>\n",
       "<table border=\"1\" class=\"dataframe\">\n",
       "  <thead>\n",
       "    <tr style=\"text-align: right;\">\n",
       "      <th></th>\n",
       "      <th>md</th>\n",
       "      <th>tvdss</th>\n",
       "      <th>x</th>\n",
       "      <th>y</th>\n",
       "    </tr>\n",
       "  </thead>\n",
       "  <tbody>\n",
       "    <tr>\n",
       "      <th>0</th>\n",
       "      <td>0.0</td>\n",
       "      <td>-34.099998</td>\n",
       "      <td>623256.0000</td>\n",
       "      <td>6082587.0</td>\n",
       "    </tr>\n",
       "    <tr>\n",
       "      <th>1</th>\n",
       "      <td>100.0</td>\n",
       "      <td>65.900002</td>\n",
       "      <td>623256.0000</td>\n",
       "      <td>6082587.0</td>\n",
       "    </tr>\n",
       "    <tr>\n",
       "      <th>2</th>\n",
       "      <td>270.0</td>\n",
       "      <td>235.870056</td>\n",
       "      <td>623255.8750</td>\n",
       "      <td>6082590.0</td>\n",
       "    </tr>\n",
       "    <tr>\n",
       "      <th>3</th>\n",
       "      <td>380.0</td>\n",
       "      <td>345.859985</td>\n",
       "      <td>623255.8750</td>\n",
       "      <td>6082591.5</td>\n",
       "    </tr>\n",
       "    <tr>\n",
       "      <th>4</th>\n",
       "      <td>475.0</td>\n",
       "      <td>440.859985</td>\n",
       "      <td>623255.8125</td>\n",
       "      <td>6082591.5</td>\n",
       "    </tr>\n",
       "    <tr>\n",
       "      <th>5</th>\n",
       "      <td>655.0</td>\n",
       "      <td>620.859985</td>\n",
       "      <td>623255.8125</td>\n",
       "      <td>6082592.5</td>\n",
       "    </tr>\n",
       "    <tr>\n",
       "      <th>6</th>\n",
       "      <td>751.0</td>\n",
       "      <td>716.849976</td>\n",
       "      <td>623255.8125</td>\n",
       "      <td>6082593.5</td>\n",
       "    </tr>\n",
       "    <tr>\n",
       "      <th>7</th>\n",
       "      <td>856.0</td>\n",
       "      <td>821.840088</td>\n",
       "      <td>623255.7500</td>\n",
       "      <td>6082594.5</td>\n",
       "    </tr>\n",
       "    <tr>\n",
       "      <th>8</th>\n",
       "      <td>952.0</td>\n",
       "      <td>917.840088</td>\n",
       "      <td>623255.7500</td>\n",
       "      <td>6082595.5</td>\n",
       "    </tr>\n",
       "    <tr>\n",
       "      <th>9</th>\n",
       "      <td>1000.0</td>\n",
       "      <td>965.830078</td>\n",
       "      <td>623255.6875</td>\n",
       "      <td>6082596.5</td>\n",
       "    </tr>\n",
       "    <tr>\n",
       "      <th>10</th>\n",
       "      <td>1106.0</td>\n",
       "      <td>1071.829956</td>\n",
       "      <td>623255.6875</td>\n",
       "      <td>6082597.5</td>\n",
       "    </tr>\n",
       "    <tr>\n",
       "      <th>11</th>\n",
       "      <td>1201.0</td>\n",
       "      <td>1166.829956</td>\n",
       "      <td>623255.6250</td>\n",
       "      <td>6082598.0</td>\n",
       "    </tr>\n",
       "    <tr>\n",
       "      <th>12</th>\n",
       "      <td>1297.0</td>\n",
       "      <td>1262.819946</td>\n",
       "      <td>623255.6250</td>\n",
       "      <td>6082599.0</td>\n",
       "    </tr>\n",
       "    <tr>\n",
       "      <th>13</th>\n",
       "      <td>1400.0</td>\n",
       "      <td>1365.810059</td>\n",
       "      <td>623255.6250</td>\n",
       "      <td>6082600.0</td>\n",
       "    </tr>\n",
       "    <tr>\n",
       "      <th>14</th>\n",
       "      <td>1737.0</td>\n",
       "      <td>1702.760010</td>\n",
       "      <td>623255.4375</td>\n",
       "      <td>6082606.0</td>\n",
       "    </tr>\n",
       "    <tr>\n",
       "      <th>15</th>\n",
       "      <td>1941.0</td>\n",
       "      <td>1906.729980</td>\n",
       "      <td>623255.3125</td>\n",
       "      <td>6082609.5</td>\n",
       "    </tr>\n",
       "    <tr>\n",
       "      <th>16</th>\n",
       "      <td>2048.0</td>\n",
       "      <td>2013.709961</td>\n",
       "      <td>623255.2500</td>\n",
       "      <td>6082611.5</td>\n",
       "    </tr>\n",
       "  </tbody>\n",
       "</table>\n",
       "</div>"
      ],
      "text/plain": [
       "        md        tvdss            x          y\n",
       "0      0.0   -34.099998  623256.0000  6082587.0\n",
       "1    100.0    65.900002  623256.0000  6082587.0\n",
       "2    270.0   235.870056  623255.8750  6082590.0\n",
       "3    380.0   345.859985  623255.8750  6082591.5\n",
       "4    475.0   440.859985  623255.8125  6082591.5\n",
       "5    655.0   620.859985  623255.8125  6082592.5\n",
       "6    751.0   716.849976  623255.8125  6082593.5\n",
       "7    856.0   821.840088  623255.7500  6082594.5\n",
       "8    952.0   917.840088  623255.7500  6082595.5\n",
       "9   1000.0   965.830078  623255.6875  6082596.5\n",
       "10  1106.0  1071.829956  623255.6875  6082597.5\n",
       "11  1201.0  1166.829956  623255.6250  6082598.0\n",
       "12  1297.0  1262.819946  623255.6250  6082599.0\n",
       "13  1400.0  1365.810059  623255.6250  6082600.0\n",
       "14  1737.0  1702.760010  623255.4375  6082606.0\n",
       "15  1941.0  1906.729980  623255.3125  6082609.5\n",
       "16  2048.0  2013.709961  623255.2500  6082611.5"
      ]
     },
     "execution_count": 30,
     "metadata": {},
     "output_type": "execute_result"
    }
   ],
   "source": [
    "f3wells.get_track_df('F03-4')"
   ]
  },
  {
   "cell_type": "code",
   "execution_count": null,
   "metadata": {},
   "outputs": [],
   "source": []
  }
 ],
 "metadata": {
  "kernelspec": {
   "display_name": "Python 3",
   "language": "python",
   "name": "python3"
  },
  "language_info": {
   "codemirror_mode": {
    "name": "ipython",
    "version": 3
   },
   "file_extension": ".py",
   "mimetype": "text/x-python",
   "name": "python",
   "nbconvert_exporter": "python",
   "pygments_lexer": "ipython3",
   "version": "3.7.10"
  },
  "nteract": {
   "version": "0.28.0"
  }
 },
 "nbformat": 4,
 "nbformat_minor": 4
}
