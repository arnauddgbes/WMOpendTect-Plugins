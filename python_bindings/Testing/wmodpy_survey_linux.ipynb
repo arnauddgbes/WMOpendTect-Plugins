{
 "cells": [
  {
   "cell_type": "markdown",
   "metadata": {},
   "source": [
    "# OpendTect Python Bindings - Survey"
   ]
  },
  {
   "cell_type": "code",
   "execution_count": 3,
   "metadata": {
    "jupyter": {
     "outputs_hidden": true,
     "source_hidden": false
    },
    "nteract": {
     "transient": {
      "deleting": false
     }
    }
   },
   "outputs": [],
   "source": [
    "import sys\n",
    "sys.path.insert(0,'/opt/seismic/OpendTect_6/6.6.0/bin/lux64/Release')\n",
    "#sys.path.insert(0,'/home/wayne/Work/WMSeismicSolutions/dGB/Development/Build/bin/od6.6/bin/lux64/Debug')\n",
    "import geopandas as gp\n",
    "import wmodpy"
   ]
  },
  {
   "cell_type": "markdown",
   "metadata": {},
   "source": [
    "## wmodpy.get_surveys Function\n",
    "This function (get_surveys) gives back a python list of the OpendTect surveys in a user supplied base data folder"
   ]
  },
  {
   "cell_type": "code",
   "execution_count": 4,
   "metadata": {},
   "outputs": [
    {
     "data": {
      "text/plain": "['13CP06_Dundinna', 'Cooper2D']"
     },
     "execution_count": 4,
     "metadata": {},
     "output_type": "execute_result"
    }
   ],
   "source": [
    "wmodpy.get_surveys(\"/mnt/Data/seismic/CooperBasin/ODData\")"
   ]
  },
  {
   "cell_type": "markdown",
   "metadata": {},
   "source": [
    "## wmodpy.Survey Class\n",
    "This class provides some basic information about an OpendTect project/survey. Creating a Survey object requires both the base data folder location and the project/survey name. The other data specific classes provided by the bindings require a Survey object for context."
   ]
  },
  {
   "cell_type": "code",
   "execution_count": 5,
   "metadata": {},
   "outputs": [
    {
     "data": {
      "text/plain": "'F3 Demo 2020'"
     },
     "execution_count": 5,
     "metadata": {},
     "output_type": "execute_result"
    }
   ],
   "source": [
    "f3demo = wmodpy.Survey('/mnt/Data/seismic/ODData', 'F3_Demo_2020')\n",
    "f3demo.name()"
   ]
  },
  {
   "cell_type": "code",
   "execution_count": 6,
   "metadata": {},
   "outputs": [
    {
     "data": {
      "text/plain": "{'Name': ['F3 Demo 2020'], 'Type': ['2D3D'], 'crs': ['EPSG:23031']}"
     },
     "execution_count": 6,
     "metadata": {},
     "output_type": "execute_result"
    }
   ],
   "source": [
    "f3demo.info()"
   ]
  },
  {
   "cell_type": "code",
   "execution_count": 7,
   "metadata": {},
   "outputs": [
    {
     "data": {
      "text/html": "<div>\n<style scoped>\n    .dataframe tbody tr th:only-of-type {\n        vertical-align: middle;\n    }\n\n    .dataframe tbody tr th {\n        vertical-align: top;\n    }\n\n    .dataframe thead th {\n        text-align: right;\n    }\n</style>\n<table border=\"1\" class=\"dataframe\">\n  <thead>\n    <tr style=\"text-align: right;\">\n      <th></th>\n      <th>Name</th>\n      <th>Type</th>\n      <th>crs</th>\n    </tr>\n  </thead>\n  <tbody>\n    <tr>\n      <th>0</th>\n      <td>F3 Demo 2020</td>\n      <td>2D3D</td>\n      <td>EPSG:23031</td>\n    </tr>\n  </tbody>\n</table>\n</div>",
      "text/plain": "           Name  Type         crs\n0  F3 Demo 2020  2D3D  EPSG:23031"
     },
     "execution_count": 7,
     "metadata": {},
     "output_type": "execute_result"
    }
   ],
   "source": [
    "f3demo.info_df()"
   ]
  },
  {
   "cell_type": "code",
   "execution_count": 8,
   "metadata": {},
   "outputs": [
    {
     "data": {
      "text/html": "<div>\n<style scoped>\n    .dataframe tbody tr th:only-of-type {\n        vertical-align: middle;\n    }\n\n    .dataframe tbody tr th {\n        vertical-align: top;\n    }\n\n    .dataframe thead th {\n        text-align: right;\n    }\n</style>\n<table border=\"1\" class=\"dataframe\">\n  <thead>\n    <tr style=\"text-align: right;\">\n      <th></th>\n      <th>Name</th>\n      <th>Type</th>\n      <th>crs</th>\n      <th>geometry</th>\n    </tr>\n  </thead>\n  <tbody>\n    <tr>\n      <th>0</th>\n      <td>F3 Demo 2020</td>\n      <td>2D3D</td>\n      <td>EPSG:23031</td>\n      <td>POLYGON ((605835.520 6073556.382, 629576.256 6...</td>\n    </tr>\n  </tbody>\n</table>\n</div>",
      "text/plain": "           Name  Type         crs  \\\n0  F3 Demo 2020  2D3D  EPSG:23031   \n\n                                            geometry  \n0  POLYGON ((605835.520 6073556.382, 629576.256 6...  "
     },
     "execution_count": 8,
     "metadata": {},
     "output_type": "execute_result"
    }
   ],
   "source": [
    "f3demo.info_gdf()"
   ]
  }
 ],
 "metadata": {
  "kernelspec": {
   "display_name": "Python 3.7.7 64-bit ('odt_py37': conda)",
   "name": "python377jvsc74a57bd06729d87f663d4375e47335891537160c4cb0c3f2bc887ef1689b06c7fcbc1596"
  },
  "language_info": {
   "codemirror_mode": {
    "name": "ipython",
    "version": 3
   },
   "file_extension": ".py",
   "mimetype": "text/x-python",
   "name": "python",
   "nbconvert_exporter": "python",
   "pygments_lexer": "ipython3",
   "version": "3.7.7"
  },
  "nteract": {
   "version": "0.28.0"
  }
 },
 "nbformat": 4,
 "nbformat_minor": 4
}